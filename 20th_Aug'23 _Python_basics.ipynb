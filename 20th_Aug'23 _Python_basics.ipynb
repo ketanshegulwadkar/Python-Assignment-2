{
 "cells": [
  {
   "cell_type": "raw",
   "id": "0a7896cb-c87e-438c-8c57-a40662379055",
   "metadata": {},
   "source": [
    "20th August 2023                                                                 PYTHON BASICS PRACTICE ASSIGNMENT 2"
   ]
  },
  {
   "cell_type": "raw",
   "id": "87ec1030-63ea-40f1-a5c9-5e78c1c9c60c",
   "metadata": {},
   "source": [
    ">PART 1 : TOPIC: String Based Assignment Problem"
   ]
  },
  {
   "cell_type": "code",
   "execution_count": 4,
   "id": "e89ba37c-880a-448e-9775-b00319a2e5cb",
   "metadata": {},
   "outputs": [
    {
     "name": "stdin",
     "output_type": "stream",
     "text": [
      " Ketan\n"
     ]
    },
    {
     "name": "stdout",
     "output_type": "stream",
     "text": [
      "Reverse string is : nateK\n"
     ]
    }
   ],
   "source": [
    "'''1.Write a program to reverse a string.'''\n",
    "\n",
    "#Taking input for string\n",
    "input_string = input()\n",
    "\n",
    "#Reverse the inputed string\n",
    "reversed_string = input_string[::-1]\n",
    "\n",
    "#Display the reversed string \n",
    "print(\"Reverse string is :\", reversed_string)"
   ]
  },
  {
   "cell_type": "code",
   "execution_count": 3,
   "id": "c1adfd09-340a-4092-a124-b5b922e8e7bc",
   "metadata": {},
   "outputs": [
    {
     "name": "stdin",
     "output_type": "stream",
     "text": [
      " Mom\n"
     ]
    },
    {
     "name": "stdout",
     "output_type": "stream",
     "text": [
      "Mom Is Not A Palindrome\n"
     ]
    }
   ],
   "source": [
    "'''2. Check if a string is a palindrome.'''\n",
    "\n",
    "#Taking input for string\n",
    "x = input()\n",
    "w = \"\"\n",
    "for i in x:\n",
    "    w = i + w\n",
    " \n",
    "#Checking the string is a palindrome or not\n",
    "if (x == w):\n",
    "    print(f\"{x} Is A Palindrome\")\n",
    "else:\n",
    "    print(f\"{x} Is Not A Palindrome\")"
   ]
  },
  {
   "cell_type": "code",
   "execution_count": 5,
   "id": "ec46f68e-dded-4754-a15d-54330d389e2a",
   "metadata": {},
   "outputs": [
    {
     "name": "stdin",
     "output_type": "stream",
     "text": [
      " ketan shegulwadkar\n"
     ]
    },
    {
     "name": "stdout",
     "output_type": "stream",
     "text": [
      "Original String:  ketan shegulwadkar\n",
      "Uppercase String:  KETAN SHEGULWADKAR\n"
     ]
    }
   ],
   "source": [
    "'''3. Convert a string to uppercase.'''\n",
    "\n",
    "#Taking input for string\n",
    "original_string = input()\n",
    "\n",
    "#upper method used for upper case\n",
    "uppercase_string = original_string.upper()\n",
    "\n",
    "#Displaying the string after converting to upper case\n",
    "print(\"Original String: \", original_string)\n",
    "print(\"Uppercase String: \", uppercase_string)\n"
   ]
  },
  {
   "cell_type": "code",
   "execution_count": 11,
   "id": "cf6bc751-137d-48bf-939a-b6c5b9311294",
   "metadata": {},
   "outputs": [
    {
     "name": "stdin",
     "output_type": "stream",
     "text": [
      " LOWER CASE STRING\n"
     ]
    },
    {
     "name": "stdout",
     "output_type": "stream",
     "text": [
      "Original String:  LOWER CASE STRING\n",
      "Lowercase String:  lower case string\n"
     ]
    }
   ],
   "source": [
    "'''4. Convert a string to lowercase.'''\n",
    "\n",
    "#Taking input for string\n",
    "original_string = input()\n",
    "\n",
    "#upper method used for lower case\n",
    "lowercase_string = original_string.lower()\n",
    "\n",
    "#Displaying the string after converting to lower case\n",
    "print(\"Original String: \", original_string)\n",
    "print(\"Lowercase String: \", lowercase_string)"
   ]
  },
  {
   "cell_type": "code",
   "execution_count": 14,
   "id": "ba027e84-2bd1-4bce-b3a9-92c074255684",
   "metadata": {},
   "outputs": [
    {
     "name": "stdin",
     "output_type": "stream",
     "text": [
      " Laser Technique\n"
     ]
    },
    {
     "name": "stdout",
     "output_type": "stream",
     "text": [
      "Original String:  Laser Technique\n",
      "Number of Vowels:  6\n"
     ]
    }
   ],
   "source": [
    "'''5. Count the number of vowels in a string.'''\n",
    "\n",
    "#Taking input\n",
    "input_string = input()\n",
    "vowels = \"aeiouAEIOU\"\n",
    "\n",
    "vowel_count = 0\n",
    "\n",
    "#Checking vowels in string\n",
    "for char in input_string:\n",
    "    if char in vowels:\n",
    "        vowel_count += 1\n",
    "\n",
    "#Displaying the number of vowels in the string        \n",
    "print(\"Original String: \", input_string)\n",
    "print(\"Number of Vowels: \", vowel_count)"
   ]
  },
  {
   "cell_type": "code",
   "execution_count": 2,
   "id": "dd2bce86-972f-4579-a73b-83a4c15f15bf",
   "metadata": {},
   "outputs": [
    {
     "name": "stdin",
     "output_type": "stream",
     "text": [
      " How Are You?\n"
     ]
    },
    {
     "name": "stdout",
     "output_type": "stream",
     "text": [
      "Original String:  How Are You?\n",
      "Number of Consonants:  4\n"
     ]
    }
   ],
   "source": [
    "'''6. Count the number of consonants in a string.'''\n",
    "\n",
    "#Taking Input\n",
    "input_string = input()\n",
    "consonants = \"bcdfghjklmnpqrstvwxyzBCDFGHJKLMNPQRSTVWXYZ\"\n",
    "\n",
    "consonant_count = 0\n",
    "\n",
    "#Checking consonants in string\n",
    "for char in input_string:\n",
    "    if char in consonants:\n",
    "        consonant_count += 1\n",
    "\n",
    "        \n",
    " #Displaying the number of consonants in the string       \n",
    "print(\"Original String: \", input_string)\n",
    "print(\"Number of Consonants: \", consonant_count)"
   ]
  },
  {
   "cell_type": "code",
   "execution_count": 5,
   "id": "0d26d492-0f97-442d-9259-97d89f059f31",
   "metadata": {},
   "outputs": [
    {
     "name": "stdin",
     "output_type": "stream",
     "text": [
      " ketan shegulwadkar\n"
     ]
    },
    {
     "name": "stdout",
     "output_type": "stream",
     "text": [
      "Original String:  ketan shegulwadkar\n",
      "String without Whitespaces:  ketanshegulwadkar\n"
     ]
    }
   ],
   "source": [
    "'''7. Remove all whitespaces from a string.'''\n",
    "\n",
    "#Taking Input\n",
    "input_string = input()\n",
    "\n",
    "# Remove whitespaces using replace\n",
    "no_whitespace_string = input_string.replace(\" \", \"\")\n",
    "\n",
    "#Display Result\n",
    "print(\"Original String: \", input_string)\n",
    "print(\"String without Whitespaces: \", no_whitespace_string)"
   ]
  },
  {
   "cell_type": "code",
   "execution_count": 1,
   "id": "d1fa7f80-7b2d-4663-87ff-2a3179975378",
   "metadata": {},
   "outputs": [
    {
     "name": "stdin",
     "output_type": "stream",
     "text": [
      " Hello World\n"
     ]
    },
    {
     "name": "stdout",
     "output_type": "stream",
     "text": [
      "Original String:  Hello World\n",
      "Length of the String:  11\n"
     ]
    }
   ],
   "source": [
    "'''8. Find the length of a string without using the `len()` function.'''\n",
    "\n",
    "#Taking Input\n",
    "input_string = input()\n",
    "\n",
    "# Finding the length without using len()\n",
    "length = 0\n",
    "\n",
    "for char in input_string:\n",
    "    length += 1\n",
    "\n",
    "#Displaying String Length\n",
    "print(\"Original String: \", input_string)\n",
    "print(\"Length of the String: \", length)\n",
    "\n"
   ]
  },
  {
   "cell_type": "code",
   "execution_count": 11,
   "id": "9e5e4602-7a16-4098-a29e-e480304523f0",
   "metadata": {},
   "outputs": [
    {
     "name": "stdin",
     "output_type": "stream",
     "text": [
      "Enter the string : What is your name?\n",
      "Enter the specific word to check Name\n"
     ]
    },
    {
     "name": "stdout",
     "output_type": "stream",
     "text": [
      "The string does not contain the word \"Name\".\n"
     ]
    }
   ],
   "source": [
    "'''9. Check if a string contains a specific word.'''\n",
    "\n",
    "#Take input\n",
    "input_string = input(\"Enter the string :\")\n",
    "\n",
    "#Take Input and Check if the string contains a specific word\n",
    "specific_word = input(\"Enter the specific word to check :\")\n",
    "if specific_word in input_string:\n",
    "    print(f'The string contains the word :\"{specific_word}\".')\n",
    "else:\n",
    "    print(f'The string does not contain the word :\"{specific_word}\".')\n",
    "\n"
   ]
  },
  {
   "cell_type": "code",
   "execution_count": 17,
   "id": "9c9f32cc-b774-4c53-9eca-8add0a4d4e71",
   "metadata": {},
   "outputs": [
    {
     "name": "stdout",
     "output_type": "stream",
     "text": [
      "Original String:  Hello, World! This is an example.\n",
      "Modified String:  Hello, World! This is an replacement.\n"
     ]
    }
   ],
   "source": [
    "'''10. Replace a word in a string with another word.'''\n",
    "\n",
    "#Give Input\n",
    "original_string = \"Hello, World! This is an example.\"\n",
    "\n",
    "# Replace a word in the string\n",
    "old_word = \"example\"\n",
    "new_word = \"replacement\"\n",
    "\n",
    "modified_string = original_string.replace(old_word, new_word)\n",
    "\n",
    "print(\"Original String: \", original_string)\n",
    "print(\"Modified String: \", modified_string)\n"
   ]
  },
  {
   "cell_type": "code",
   "execution_count": 18,
   "id": "cec593ec-379d-4c9b-9989-62e65f893316",
   "metadata": {},
   "outputs": [
    {
     "name": "stdout",
     "output_type": "stream",
     "text": [
      "The word \"example\" appears 2 times in the string.\n"
     ]
    }
   ],
   "source": [
    "'''11. Count the occurrences of a word in a string.'''\n",
    "\n",
    "#Give input\n",
    "input_string = \"This is an example string. This string is just an example.\"\n",
    "\n",
    "#Count occurrences of a word in the string\n",
    "word_to_count = \"example\"\n",
    "occurrences = input_string.count(word_to_count)\n",
    "\n",
    "#Display the final result\n",
    "print(f'The word \"{word_to_count}\" appears {occurrences} times in the string.')\n",
    "\n",
    "\n"
   ]
  },
  {
   "cell_type": "code",
   "execution_count": 21,
   "id": "e6fb1100-074b-401c-b04d-41478cd049db",
   "metadata": {},
   "outputs": [
    {
     "name": "stdout",
     "output_type": "stream",
     "text": [
      "The word \"example\" first appears at index 11 in the string.\n"
     ]
    }
   ],
   "source": [
    "'''12. Find the first occurrence of a word in a string.'''\n",
    "\n",
    "#Give Input\n",
    "input_string = \"This is an example string. This string is just an example.\"\n",
    "\n",
    "# Find the first occurrence of a word in the string\n",
    "word_to_find = \"example\"\n",
    "first_occurrence_index = input_string.find(word_to_find)\n",
    "\n",
    "if first_occurrence_index != -1:\n",
    "    print(f'The word \"{word_to_find}\" first appears at index {first_occurrence_index} in the string.')\n",
    "else:\n",
    "    print(f'The word \"{word_to_find}\" does not appear in the string.')\n",
    "    \n",
    "    "
   ]
  },
  {
   "cell_type": "code",
   "execution_count": 23,
   "id": "0f00a27a-a770-4a1c-96e3-2d8bda948c09",
   "metadata": {},
   "outputs": [
    {
     "name": "stdout",
     "output_type": "stream",
     "text": [
      "The word \"string\" last appears at index 32 in the string.\n"
     ]
    }
   ],
   "source": [
    "'''13. Find the last occurrence of a word in a string.'''\n",
    "\n",
    "#Give Input\n",
    "input_string = \"This is an example string. This string is just an example.\"\n",
    "\n",
    "# Find the last occurrence of a word in the string\n",
    "word_to_find = \"string\"\n",
    "last_occurrence_index = input_string.rfind(word_to_find)\n",
    "\n",
    "if last_occurrence_index != -1:\n",
    "    print(f'The word \"{word_to_find}\" last appears at index {last_occurrence_index} in the string.')\n",
    "else:\n",
    "    print(f'The word \"{word_to_find}\" does not appear in the string.')\n",
    "    \n",
    "    "
   ]
  },
  {
   "cell_type": "code",
   "execution_count": 24,
   "id": "6518d8af-6d63-488c-b229-3d9009f1a7bb",
   "metadata": {},
   "outputs": [
    {
     "name": "stdout",
     "output_type": "stream",
     "text": [
      "Original String:  This is an example string.\n",
      "List of Words:  ['This', 'is', 'an', 'example', 'string.']\n"
     ]
    }
   ],
   "source": [
    "'''14. Split a string into a list of words.'''\n",
    "\n",
    "#Give Input\n",
    "input_string = \"This is an example string.\"\n",
    "\n",
    "# Split the string into a list of words\n",
    "word_list = input_string.split()\n",
    "\n",
    "#Display Result\n",
    "print(\"Original String: \", input_string)\n",
    "print(\"List of Words: \", word_list)\n",
    "\n",
    "\n"
   ]
  },
  {
   "cell_type": "code",
   "execution_count": 25,
   "id": "f0366885-7b2d-42c5-a6be-92139af9935c",
   "metadata": {},
   "outputs": [
    {
     "name": "stdout",
     "output_type": "stream",
     "text": [
      "List of Words:  ['This', 'is', 'an', 'example', 'list.']\n",
      "Joined String:  This is an example list.\n"
     ]
    }
   ],
   "source": [
    "'''15. Join a list of words into a string.'''\n",
    "\n",
    "#Give Input\n",
    "word_list = [\"This\", \"is\", \"an\", \"example\", \"list.\"]\n",
    "\n",
    "# Join the list of words into a string\n",
    "joined_string = ' '.join(word_list)\n",
    "\n",
    "print(\"List of Words: \", word_list)\n",
    "print(\"Joined String: \", joined_string)\n",
    "\n"
   ]
  },
  {
   "cell_type": "code",
   "execution_count": 26,
   "id": "d9b59876-a97f-4052-a1cb-f0a90b7b0768",
   "metadata": {},
   "outputs": [
    {
     "name": "stdout",
     "output_type": "stream",
     "text": [
      "Original String:  This is an example string with spaces.\n",
      "Modified String:  This_is_an_example_string_with_spaces.\n"
     ]
    }
   ],
   "source": [
    "'''16. Convert a string where words are separated by spaces to one where words\n",
    "are separated by underscores.'''\n",
    "\n",
    "#Give Input\n",
    "original_string = \"This is an example string with spaces.\"\n",
    "\n",
    "# Replace spaces with underscores\n",
    "modified_string = original_string.replace(' ', '_')\n",
    "\n",
    "#Display Result\n",
    "print(\"Original String: \", original_string)\n",
    "print(\"Modified String: \", modified_string)\n",
    "\n"
   ]
  },
  {
   "cell_type": "code",
   "execution_count": 27,
   "id": "aba38d13-96b0-494f-91d9-6c8363f13ec2",
   "metadata": {},
   "outputs": [
    {
     "name": "stdout",
     "output_type": "stream",
     "text": [
      "The string starts with \"Hello\".\n"
     ]
    }
   ],
   "source": [
    "'''17. Check if a string starts with a specific word or phrase.'''\n",
    "\n",
    "#Give Input\n",
    "input_string = \"Hello, World! This is an example.\"\n",
    "\n",
    "# Check if the string starts with a specific word or phrase\n",
    "start_word = \"Hello\"\n",
    "if input_string.startswith(start_word):\n",
    "    print(f'The string starts with \"{start_word}\".')\n",
    "else:\n",
    "    print(f'The string does not start with \"{start_word}\".')\n",
    "    \n",
    "    "
   ]
  },
  {
   "cell_type": "code",
   "execution_count": 28,
   "id": "dba22fcf-8635-404b-b37f-9f5a78962eee",
   "metadata": {},
   "outputs": [
    {
     "name": "stdout",
     "output_type": "stream",
     "text": [
      "The string ends with \"example.\".\n"
     ]
    }
   ],
   "source": [
    "'''18. Check if a string ends with a specific word or phrase.'''\n",
    "\n",
    "#Give Input\n",
    "input_string = \"Hello, World! This is an example.\"\n",
    "\n",
    "# Check if the string ends with a specific word or phrase\n",
    "end_word = \"example.\"\n",
    "if input_string.endswith(end_word):\n",
    "    print(f'The string ends with \"{end_word}\".')\n",
    "else:\n",
    "    print(f'The string does not end with \"{end_word}\".')\n",
    "    \n"
   ]
  },
  {
   "cell_type": "code",
   "execution_count": 30,
   "id": "f1d97dc3-a2ed-4d30-a62d-f88cd18601ac",
   "metadata": {},
   "outputs": [
    {
     "name": "stdout",
     "output_type": "stream",
     "text": [
      "Original String:  hello world\n",
      "Title Case String:  Hello World\n"
     ]
    }
   ],
   "source": [
    "'''19. Convert a string to title case (e.g., \"hello world\" to \"Hello World\").'''\n",
    "\n",
    "#Give Input\n",
    "original_string = \"hello world\"\n",
    "\n",
    "# Convert the string to title case\n",
    "title_case_string = original_string.title()\n",
    "\n",
    "#Display Result\n",
    "print(\"Original String: \", original_string)\n",
    "print(\"Title Case String: \", title_case_string)"
   ]
  },
  {
   "cell_type": "code",
   "execution_count": 32,
   "id": "1b517ea7-9021-4ea7-8139-7a8083d7e95d",
   "metadata": {},
   "outputs": [
    {
     "name": "stdout",
     "output_type": "stream",
     "text": [
      "Original String:  This is an example sentence with some long and short words.\n",
      "Longest Word:  sentence\n"
     ]
    }
   ],
   "source": [
    "'''20. Find the longest word in a string.'''\n",
    "\n",
    "#Give Input\n",
    "input_string = \"This is an example sentence with some long and short words.\"\n",
    "\n",
    "# Split the string into words\n",
    "words = input_string.split()\n",
    "\n",
    "# Find the longest word\n",
    "longest_word = max(words, key=len)\n",
    "\n",
    "#Display Result\n",
    "print(\"Original String: \", input_string)\n",
    "print(\"Longest Word: \", longest_word)\n",
    "\n",
    "\n"
   ]
  },
  {
   "cell_type": "code",
   "execution_count": 33,
   "id": "fec75174-40be-40a4-b449-0966c1c5e39d",
   "metadata": {},
   "outputs": [
    {
     "name": "stdout",
     "output_type": "stream",
     "text": [
      "Original String:  This is an example sentence with some long and short words.\n",
      "Shortest Word:  is\n"
     ]
    }
   ],
   "source": [
    "'''21. Find the shortest word in a string.'''\n",
    "\n",
    "#Give Input\n",
    "input_string = \"This is an example sentence with some long and short words.\"\n",
    "\n",
    "# Split the string into words\n",
    "words = input_string.split()\n",
    "\n",
    "# Find the shortest word\n",
    "shortest_word = min(words, key=len)\n",
    "\n",
    "#Display Result\n",
    "print(\"Original String: \", input_string)\n",
    "print(\"Shortest Word: \", shortest_word)"
   ]
  },
  {
   "cell_type": "code",
   "execution_count": 34,
   "id": "5ca4acc3-b05d-49f7-95aa-222a6e9349aa",
   "metadata": {},
   "outputs": [
    {
     "name": "stdout",
     "output_type": "stream",
     "text": [
      "Original String:  This is an example sentence.\n",
      "Reversed String:  sentence. example an is This\n"
     ]
    }
   ],
   "source": [
    "'''22. Reverse the order of words in a string.'''\n",
    "\n",
    "\n",
    "input_string = \"This is an example sentence.\"\n",
    "\n",
    "# Split the string into words\n",
    "words = input_string.split()\n",
    "\n",
    "# Reverse the order of words\n",
    "reversed_words = reversed(words)\n",
    "\n",
    "# Join the reversed words into a string\n",
    "reversed_string = ' '.join(reversed_words)\n",
    "\n",
    "#Display Result\n",
    "print(\"Original String: \", input_string)\n",
    "print(\"Reversed String: \", reversed_string)\n",
    "\n"
   ]
  },
  {
   "cell_type": "code",
   "execution_count": 35,
   "id": "b7aef406-b45d-49cd-a4bf-96e11dbbd8be",
   "metadata": {},
   "outputs": [
    {
     "name": "stdout",
     "output_type": "stream",
     "text": [
      "The string is alphanumeric.\n"
     ]
    }
   ],
   "source": [
    "'''23. Check if a string is alphanumeric.'''\n",
    "\n",
    "#Give Input\n",
    "input_string = \"Hello123\"\n",
    "\n",
    "# Check if the string is alphanumeric\n",
    "is_alphanumeric = input_string.isalnum()\n",
    "\n",
    "if is_alphanumeric:\n",
    "    print(\"The string is alphanumeric.\")\n",
    "else:\n",
    "    print(\"The string is not alphanumeric.\")\n",
    "    \n",
    "    "
   ]
  },
  {
   "cell_type": "code",
   "execution_count": 36,
   "id": "e7f1b29f-50eb-4537-b29a-8edc731adcc7",
   "metadata": {},
   "outputs": [
    {
     "name": "stdout",
     "output_type": "stream",
     "text": [
      "Original String:  Hello123World456\n",
      "Extracted Digits:  123456\n"
     ]
    }
   ],
   "source": [
    "'''24. Extract all digits from a string.'''\n",
    "\n",
    "#Give Input\n",
    "input_string = \"Hello123World456\"\n",
    "\n",
    "# Extract all digits from the string\n",
    "digits = ''.join(char for char in input_string if char.isdigit())\n",
    "\n",
    "#Display Result\n",
    "print(\"Original String: \", input_string)\n",
    "print(\"Extracted Digits: \", digits)\n"
   ]
  },
  {
   "cell_type": "code",
   "execution_count": 37,
   "id": "d9726e4c-8ec6-4fdc-a043-ea0a01014116",
   "metadata": {},
   "outputs": [
    {
     "name": "stdout",
     "output_type": "stream",
     "text": [
      "Original String:  Hello123World\n",
      "Extracted Alphabets:  HelloWorld\n"
     ]
    }
   ],
   "source": [
    "'''25. Extract all alphabets from a string.'''\n",
    "\n",
    "#Give Input\n",
    "input_string = \"Hello123World\"\n",
    "\n",
    "# Extract all alphabets from the string\n",
    "alphabets = ''.join(char for char in input_string if char.isalpha())\n",
    "\n",
    "#Display Result\n",
    "print(\"Original String: \", input_string)\n",
    "print(\"Extracted Alphabets: \", alphabets)"
   ]
  },
  {
   "cell_type": "code",
   "execution_count": 6,
   "id": "2dc55789-795a-46da-b08e-8d69bdb4fbf8",
   "metadata": {},
   "outputs": [
    {
     "name": "stdin",
     "output_type": "stream",
     "text": [
      " Ketan Shegulwadkar\n"
     ]
    },
    {
     "name": "stdout",
     "output_type": "stream",
     "text": [
      "Original String:  Ketan Shegulwadkar\n",
      "Number of Uppercase Letters:  2\n"
     ]
    }
   ],
   "source": [
    "'''26. Count the number of uppercase letters in a string.'''\n",
    "\n",
    "#Give Input\n",
    "input_string = input()\n",
    "\n",
    "#Count the number of uppercase letters in the string\n",
    "uppercase_count = sum(1 for char in input_string if char.isupper())\n",
    "\n",
    "#Display Result\n",
    "print(\"Original String: \", input_string)\n",
    "print(\"Number of Uppercase Letters: \", uppercase_count)"
   ]
  },
  {
   "cell_type": "code",
   "execution_count": 2,
   "id": "5ff86daa-9811-401e-98c8-5a9dabb59494",
   "metadata": {},
   "outputs": [
    {
     "name": "stdin",
     "output_type": "stream",
     "text": [
      " Ketan Shegulwadkar\n"
     ]
    },
    {
     "name": "stdout",
     "output_type": "stream",
     "text": [
      "Original String:  Ketan Shegulwadkar\n",
      "Number of Lowercase Letters:  15\n"
     ]
    }
   ],
   "source": [
    "'''27. Count the number of lowercase letters in a string.'''\n",
    "\n",
    "#Give Input\n",
    "input_string = input()\n",
    "\n",
    "#Count thr number of lowercase letters in the string\n",
    "lowercase_count = sum(1 for char in input_string if char.islower())\n",
    "                     \n",
    "#Display Result\n",
    "print(\"Original String: \", input_string)  \n",
    "print(\"Number of Lowercase Letters: \", lowercase_count)                     "
   ]
  },
  {
   "cell_type": "code",
   "execution_count": 3,
   "id": "958077be-0c8f-4794-a48e-2666bef345cc",
   "metadata": {},
   "outputs": [
    {
     "name": "stdin",
     "output_type": "stream",
     "text": [
      " Ketan Shegulwadkar\n"
     ]
    },
    {
     "name": "stdout",
     "output_type": "stream",
     "text": [
      "Original String:  Ketan Shegulwadkar\n",
      "Swapped Case String:  kETAN sHEGULWADKAR\n"
     ]
    }
   ],
   "source": [
    "'''28. Swap the case of each character in a string.'''\n",
    "# Give Input\n",
    "input_string = input()\n",
    "\n",
    "# Swap the case of each character in the string\n",
    "swapped_string = input_string.swapcase()\n",
    "\n",
    "# Display Result\n",
    "print(\"Original String: \", input_string)\n",
    "print(\"Swapped Case String: \", swapped_string)"
   ]
  },
  {
   "cell_type": "code",
   "execution_count": 5,
   "id": "e0057cf0-0c2b-4c16-9b56-8d2a68349645",
   "metadata": {},
   "outputs": [
    {
     "name": "stdout",
     "output_type": "stream",
     "text": [
      "Original String:  Hello, World! This is an example.\n",
      "Modified String:  Hello, World! This is an .\n"
     ]
    }
   ],
   "source": [
    "'''29. Remove a specific word from a string.'''\n",
    "\n",
    "# Give Input\n",
    "original_string = \"Hello, World! This is an example.\"\n",
    "\n",
    "# Remove a specific word from the string\n",
    "word_to_remove = \"example\"\n",
    "modified_string = original_string.replace(word_to_remove,'')\n",
    "\n",
    "# Display Result\n",
    "print(\"Original String: \", original_string)\n",
    "print(\"Modified String: \", modified_string)"
   ]
  },
  {
   "cell_type": "code",
   "execution_count": 8,
   "id": "1fbe90d9-9446-47b1-992b-d3c9ae3b5f16",
   "metadata": {},
   "outputs": [
    {
     "name": "stdout",
     "output_type": "stream",
     "text": [
      "user.example@com is a valid email address.\n"
     ]
    }
   ],
   "source": [
    "'''30. Check if a string is a valid email address.'''\n",
    "\n",
    "# Give Input\n",
    "email_address = \"user.example@com\"\n",
    "\n",
    "# To Check the number of '@' and '.' in the string\n",
    "at_count = email_address.count('@')\n",
    "dot_count = email_address.count('.')\n",
    "\n",
    "# To Check Given String Is A valid email address or not\n",
    "if at_count == 1 and dot_count >= 1:\n",
    "    print(f\"{email_address} is a valid email address.\")\n",
    "else:\n",
    "    print(f\"{email_address} is not a valid email address.\")"
   ]
  },
  {
   "cell_type": "code",
   "execution_count": 9,
   "id": "4a37e805-6a79-476c-a4d8-27161b7ff585",
   "metadata": {},
   "outputs": [
    {
     "name": "stdout",
     "output_type": "stream",
     "text": [
      "Email Address: user@example.com\n",
      "Username: user\n"
     ]
    }
   ],
   "source": [
    "'''31. Extract the username from an email address string.'''\n",
    "\n",
    "# Give Input\n",
    "email_address = \"user@example.com\"\n",
    "\n",
    "# Extract the username from the email address\n",
    "username = email_address.split('@')[0]\n",
    "\n",
    "# Display Result\n",
    "print(f\"Email Address: {email_address}\")\n",
    "print(f\"Username: {username}\")"
   ]
  },
  {
   "cell_type": "code",
   "execution_count": 1,
   "id": "adebccc7-35b4-444d-a07f-d29e19a738f5",
   "metadata": {},
   "outputs": [
    {
     "name": "stdout",
     "output_type": "stream",
     "text": [
      "Email Address: user@example.com\n",
      "Domain Name: example.com\n"
     ]
    }
   ],
   "source": [
    "'''32. Extract the domain name from an email address string.'''\n",
    "\n",
    "# Give Input\n",
    "email_address = \"user@example.com\"\n",
    "\n",
    "# Extract the domain name from the email address\n",
    "domain_name = email_address.split('@')[1]\n",
    "\n",
    "# Display Result\n",
    "print(f\"Email Address: {email_address}\")\n",
    "print(f\"Domain Name: {domain_name}\")"
   ]
  },
  {
   "cell_type": "code",
   "execution_count": 2,
   "id": "0f331223-37e8-45c6-8a45-54f7399671ef",
   "metadata": {},
   "outputs": [
    {
     "name": "stdout",
     "output_type": "stream",
     "text": [
      "Original String:  This   is    an    example   with   multiple   spaces.\n",
      "Modified String:  This is an example with multiple spaces.\n"
     ]
    }
   ],
   "source": [
    "'''33. Replace multiple spaces in a string with a single space.'''\n",
    "\n",
    "# Give Input\n",
    "original_string = \"This   is    an    example   with   multiple   spaces.\"\n",
    "\n",
    "# Replace multiple spaces with a single space\n",
    "modified_string = ' '.join(original_string.split())\n",
    "\n",
    "# Display Result\n",
    "print(\"Original String: \", original_string)\n",
    "print(\"Modified String: \", modified_string)"
   ]
  },
  {
   "cell_type": "code",
   "execution_count": 3,
   "id": "68f048c2-8998-45be-ad75-84e874d912c6",
   "metadata": {},
   "outputs": [
    {
     "name": "stdout",
     "output_type": "stream",
     "text": [
      "https://www.example.com is a valid URL.\n"
     ]
    }
   ],
   "source": [
    "'''34. Check if a string is a valid URL.'''\n",
    "\n",
    "# Import urlparse from urllib.parse:\n",
    "from urllib.parse import urlparse\n",
    "\n",
    "# Define is_valid_url function:\n",
    "def is_valid_url(url):\n",
    "    try:\n",
    "        result = urlparse(url)\n",
    "        return all([result.scheme, result.netloc])\n",
    "    except ValueError:\n",
    "        return False\n",
    "\n",
    "# Test the function with a sample URL:    \n",
    "url = \"https://www.example.com\"\n",
    "if is_valid_url(url):\n",
    "    print(f\"{url} is a valid URL.\")\n",
    "else:\n",
    "    print(f\"{url} is not a valid URL.\")"
   ]
  },
  {
   "cell_type": "code",
   "execution_count": 4,
   "id": "fe33d2f8-6e41-4394-a396-16d4840c6789",
   "metadata": {},
   "outputs": [
    {
     "name": "stdout",
     "output_type": "stream",
     "text": [
      "URL: https://www.example.com\n",
      "Protocol: https\n"
     ]
    }
   ],
   "source": [
    "'''35. Extract the protocol (http or https) from a URL string.'''\n",
    "\n",
    "# Import urlparse from urllib.parse:\n",
    "from urllib.parse import urlparse\n",
    "\n",
    "# The urlparse function is used to parse the input URL (url). \n",
    "def extract_protocol(url):\n",
    "    parsed_url = urlparse(url)\n",
    "    return parsed_url.scheme\n",
    "\n",
    "# Example usage\n",
    "url = \"https://www.example.com\"\n",
    "protocol = extract_protocol(url)\n",
    "\n",
    "# Display Result\n",
    "print(f\"URL: {url}\")\n",
    "print(f\"Protocol: {protocol}\")\n"
   ]
  },
  {
   "cell_type": "code",
   "execution_count": 5,
   "id": "ab84ce3a-e446-4b82-b8cb-3d2c2f99e5b9",
   "metadata": {},
   "outputs": [
    {
     "name": "stdout",
     "output_type": "stream",
     "text": [
      "Original String: hello world\n",
      "Character Frequency:\n",
      "h: 1\n",
      "e: 1\n",
      "l: 3\n",
      "o: 2\n",
      " : 1\n",
      "w: 1\n",
      "r: 1\n",
      "d: 1\n"
     ]
    }
   ],
   "source": [
    "'''36. Find the frequency of each character in a string.'''\n",
    "\n",
    "# The character_frequency function takes an input string\n",
    "def character_frequency(input_string):\n",
    "    \n",
    "# Uses a dictionary (frequency) to store the counts of each character\n",
    "    frequency = {}\n",
    "\n",
    "# Iterates through each character and If the character is already in the dictionary, its count is incremented; otherwise, a new entry is created with a count of 1.\n",
    "    for char in input_string:\n",
    "        if char in frequency:\n",
    "            frequency[char] += 1\n",
    "        else:\n",
    "            frequency[char] = 1\n",
    "\n",
    "    return frequency\n",
    "\n",
    "# Example usage\n",
    "input_string = \"hello world\"\n",
    "frequency_result = character_frequency(input_string)\n",
    "\n",
    "# The result is then printed\n",
    "print(f\"Original String: {input_string}\")\n",
    "print(\"Character Frequency:\")\n",
    "for char, count in frequency_result.items():\n",
    "    print(f\"{char}: {count}\")\n",
    "\n"
   ]
  },
  {
   "cell_type": "code",
   "execution_count": 8,
   "id": "7aeaf252-c0f9-490f-aa93-a8f8c9faaff9",
   "metadata": {},
   "outputs": [
    {
     "name": "stdout",
     "output_type": "stream",
     "text": [
      "Original String: Hello, World! This is an example.\n",
      "String without Punctuation: Hello World This is an example\n"
     ]
    }
   ],
   "source": [
    "'''37. Remove all punctuation from a string.'''\n",
    "\n",
    "\n",
    "import string\n",
    "\n",
    "def remove_punctuation(input_string):\n",
    "# Create a translation table mapping each punctuation character to None\n",
    "    translator = str.maketrans('', '', string.punctuation)\n",
    "\n",
    "# Use translate to remove punctuation from the string\n",
    "    result_string = input_string.translate(translator)\n",
    "\n",
    "    return result_string\n",
    "\n",
    "# Example usage\n",
    "input_string = \"Hello, World! This is an example.\"\n",
    "result = remove_punctuation(input_string)\n",
    "\n",
    "# Display Result\n",
    "print(f\"Original String: {input_string}\")\n",
    "print(f\"String without Punctuation: {result}\")"
   ]
  },
  {
   "cell_type": "code",
   "execution_count": 9,
   "id": "8a22a1ff-5e6f-4517-8aa6-736bbe44e35a",
   "metadata": {},
   "outputs": [
    {
     "name": "stdout",
     "output_type": "stream",
     "text": [
      "12345 contains only digits: True\n",
      "12a45 contains only digits: False\n"
     ]
    }
   ],
   "source": [
    "'''38. Check if a string contains only digits.'''\n",
    "\n",
    "# isdigit() is called on the input string, and it returns True if all characters in the string are digits.\n",
    "def contains_only_digits(input_string):\n",
    "    return input_string.isdigit()\n",
    "\n",
    "# Example usage\n",
    "string1 = \"12345\"\n",
    "string2 = \"12a45\"\n",
    "\n",
    "# Display Result\n",
    "print(f\"{string1} contains only digits: {contains_only_digits(string1)}\")\n",
    "print(f\"{string2} contains only digits: {contains_only_digits(string2)}\")\n",
    "\n"
   ]
  },
  {
   "cell_type": "code",
   "execution_count": 10,
   "id": "f2663c15-9741-47cd-ae2f-ce33cb875072",
   "metadata": {},
   "outputs": [
    {
     "name": "stdout",
     "output_type": "stream",
     "text": [
      "Hello contains only alphabets: True\n",
      "Hello123 contains only alphabets: False\n"
     ]
    }
   ],
   "source": [
    "'''39. Check if a string contains only alphabets.'''\n",
    "\n",
    "# isalpha() is called on the input string\n",
    "def contains_only_alphabets(input_string):\n",
    "    return input_string.isalpha()\n",
    "\n",
    "# Example usage\n",
    "string1 = \"Hello\"\n",
    "string2 = \"Hello123\"\n",
    "\n",
    "# Display Result\n",
    "print(f\"{string1} contains only alphabets: {contains_only_alphabets(string1)}\")\n",
    "print(f\"{string2} contains only alphabets: {contains_only_alphabets(string2)}\")"
   ]
  },
  {
   "cell_type": "code",
   "execution_count": 11,
   "id": "27d6bf98-4e57-43f0-ab18-1fd7ffd29566",
   "metadata": {},
   "outputs": [
    {
     "name": "stdout",
     "output_type": "stream",
     "text": [
      "Original String:  Hello, World!\n",
      "List of Characters:  ['H', 'e', 'l', 'l', 'o', ',', ' ', 'W', 'o', 'r', 'l', 'd', '!']\n"
     ]
    }
   ],
   "source": [
    "'''40. Convert a string to a list of characters.'''\n",
    "\n",
    "# Give Input\n",
    "input_string = \"Hello, World!\"\n",
    "\n",
    "# Convert the string to a list of characters\n",
    "char_list = list(input_string)\n",
    "\n",
    "# Display Result\n",
    "print(\"Original String: \", input_string)\n",
    "print(\"List of Characters: \", char_list)\n",
    "\n"
   ]
  },
  {
   "cell_type": "code",
   "execution_count": 2,
   "id": "e8ece054-fcf7-42fb-9394-28cf7bef5b9a",
   "metadata": {},
   "outputs": [
    {
     "name": "stdout",
     "output_type": "stream",
     "text": [
      "ketan and taken are anagrams.\n"
     ]
    }
   ],
   "source": [
    "'''41. Check if two strings are anagrams.'''\n",
    "\n",
    "#Define Function\n",
    "def are_anagrams(str1, str2):\n",
    "    # Sort the characters of both strings and compare\n",
    "    return sorted(str1) == sorted(str2)\n",
    "\n",
    "# Example usage\n",
    "string1 = \"ketan\"\n",
    "string2 = \"taken\"\n",
    "\n",
    "# Check strings are anagrams or not\n",
    "if are_anagrams(string1, string2):\n",
    "    print(f\"{string1} and {string2} are anagrams.\")\n",
    "else:\n",
    "    print(f\"{string1} and {string2} are not anagrams.\")"
   ]
  },
  {
   "cell_type": "code",
   "execution_count": 3,
   "id": "33f909ac-c4e1-4c64-94a3-fa821d1bc02c",
   "metadata": {},
   "outputs": [
    {
     "name": "stdout",
     "output_type": "stream",
     "text": [
      "Original Text:  Hello, World!\n",
      "Encrypted Text (Shift 3):  Khoor, Zruog!\n"
     ]
    }
   ],
   "source": [
    "'''42. Encode a string using a Caesar cipher.'''\n",
    "\n",
    "# Define Function\n",
    "def caesar_cipher_encrypt(text, shift):\n",
    "    result = \"\"\n",
    "\n",
    "    for char in text:\n",
    "        if char.isalpha():\n",
    "            # Determine the case (uppercase or lowercase) of the character\n",
    "            is_upper = char.isupper()\n",
    "            \n",
    "            # Apply the Caesar cipher shift\n",
    "            char_shifted = chr((ord(char) + shift - ord('A' if is_upper else 'a')) % 26 + ord('A' if is_upper else 'a'))\n",
    "            \n",
    "            result += char_shifted\n",
    "        else:\n",
    "            # Preserve non-alphabetic characters\n",
    "            result += char\n",
    "\n",
    "    return result\n",
    "\n",
    "# Example usage\n",
    "plaintext = \"Hello, World!\"\n",
    "shift_amount = 3\n",
    "encrypted_text = caesar_cipher_encrypt(plaintext, shift_amount)\n",
    "\n",
    "# Display result\n",
    "print(\"Original Text: \", plaintext)\n",
    "print(f\"Encrypted Text (Shift {shift_amount}): \", encrypted_text)\n"
   ]
  },
  {
   "cell_type": "code",
   "execution_count": 4,
   "id": "ba86820b-df74-49ed-9ebb-2c900f9fb0e0",
   "metadata": {},
   "outputs": [
    {
     "name": "stdout",
     "output_type": "stream",
     "text": [
      "Original Text:  Hello, World!\n",
      "Encrypted Text (Shift 3):  Khoor, Zruog!\n",
      "Decrypted Text:  Hello, World!\n"
     ]
    }
   ],
   "source": [
    "'''43. Decode a Caesar cipher encoded string.'''\n",
    "\n",
    "\n",
    "def caesar_cipher_decrypt(text, shift):\n",
    "    return caesar_cipher_encrypt(text, -shift)\n",
    "\n",
    "# Reusing the Caesar cipher encryption function\n",
    "def caesar_cipher_encrypt(text, shift):\n",
    "    result = \"\"\n",
    "\n",
    "    for char in text:\n",
    "        if char.isalpha():\n",
    "            is_upper = char.isupper()\n",
    "            char_shifted = chr((ord(char) + shift - ord('A' if is_upper else 'a')) % 26 + ord('A' if is_upper else 'a'))\n",
    "            result += char_shifted\n",
    "        else:\n",
    "            result += char\n",
    "\n",
    "    return result\n",
    "\n",
    "# Example usage\n",
    "plaintext = \"Hello, World!\"\n",
    "shift_amount = 3\n",
    "encrypted_text = caesar_cipher_encrypt(plaintext, shift_amount)\n",
    "decrypted_text = caesar_cipher_decrypt(encrypted_text, shift_amount)\n",
    "\n",
    "print(\"Original Text: \", plaintext)\n",
    "print(f\"Encrypted Text (Shift {shift_amount}): \", encrypted_text)\n",
    "print(f\"Decrypted Text: \", decrypted_text)"
   ]
  },
  {
   "cell_type": "code",
   "execution_count": 5,
   "id": "9ca56c82-a3a1-4bf9-ba6d-83bc8d80f3ca",
   "metadata": {},
   "outputs": [
    {
     "name": "stdout",
     "output_type": "stream",
     "text": [
      "The most frequent word is: this\n"
     ]
    }
   ],
   "source": [
    "'''44. Find the most frequent word in a string.'''\n",
    "\n",
    "def most_frequent_word(input_string):\n",
    "    # Convert the string to lowercase and split into words\n",
    "    words = input_string.lower().split()\n",
    "\n",
    "    # Create a dictionary to store word frequencies\n",
    "    frequency = {}\n",
    "\n",
    "    # Count the frequency of each word\n",
    "    for word in words:\n",
    "        if word in frequency:\n",
    "            frequency[word] += 1\n",
    "        else:\n",
    "            frequency[word] = 1\n",
    "\n",
    "    # Find the word with the maximum frequency\n",
    "    most_frequent = max(frequency, key=frequency.get)\n",
    "\n",
    "    return most_frequent\n",
    "\n",
    "# Example usage\n",
    "text = \"This is an example sentence. This sentence is an example.\"\n",
    "\n",
    "result = most_frequent_word(text)\n",
    "print(f\"The most frequent word is: {result}\")"
   ]
  },
  {
   "cell_type": "code",
   "execution_count": 11,
   "id": "5a0e0235-0cf4-4ab9-a44c-c224f29ac8c4",
   "metadata": {},
   "outputs": [
    {
     "name": "stdout",
     "output_type": "stream",
     "text": [
      "Unique words in the string: {'example', 'sentence', 'is', 'and', 'an', 'this'}\n"
     ]
    }
   ],
   "source": [
    "'''45. Find all unique words in a string.'''\n",
    "\n",
    "def unique_words(input_string):\n",
    "    # Convert the string to lowercase and split into words\n",
    "    words = input_string.lower().split()\n",
    "\n",
    "    # Use a set to store unique words\n",
    "    unique_word_set = set(words)\n",
    "\n",
    "    return unique_word_set\n",
    "\n",
    "# Example usage\n",
    "text = \"This is an example sentence and This sentence is an example\"\n",
    "\n",
    "result = unique_words(text)\n",
    "print(f\"Unique words in the string: {result}\")\n"
   ]
  },
  {
   "cell_type": "code",
   "execution_count": 14,
   "id": "b32001a8-fff7-436c-96b5-d268ff39979e",
   "metadata": {},
   "outputs": [
    {
     "name": "stdout",
     "output_type": "stream",
     "text": [
      "'hello' has 2 syllables.\n",
      "'banana' has 3 syllables.\n",
      "'syllable' has 3 syllables.\n"
     ]
    }
   ],
   "source": [
    "'''46. Count the number of syllables in a string.'''\n",
    "\n",
    "import re\n",
    "\n",
    "def count_syllables(word):\n",
    "    # Count vowel groups using regular expression\n",
    "    vowel_groups = re.findall(r'[aeiouy]+', word, re.IGNORECASE)\n",
    "\n",
    "    return len(vowel_groups)\n",
    "\n",
    "# Example words\n",
    "word1 = \"hello\"\n",
    "word2 = \"banana\"\n",
    "word3 = \"syllable\"\n",
    "\n",
    "# Count syllables\n",
    "syllables1 = count_syllables(word1)\n",
    "syllables2 = count_syllables(word2)\n",
    "syllables3 = count_syllables(word3)\n",
    "\n",
    "# Print the results\n",
    "print(f\"'{word1}' has {syllables1} syllables.\")\n",
    "print(f\"'{word2}' has {syllables2} syllables.\")\n",
    "print(f\"'{word3}' has {syllables3} syllables.\")"
   ]
  },
  {
   "cell_type": "code",
   "execution_count": 1,
   "id": "5c06d7dc-6c84-41a7-b514-c87b225a15d9",
   "metadata": {},
   "outputs": [
    {
     "name": "stdout",
     "output_type": "stream",
     "text": [
      "Hello123 contains special characters: False\n",
      "Hello@World contains special characters: True\n"
     ]
    }
   ],
   "source": [
    "'''47. Check if a string contains any special characters.'''\n",
    "\n",
    "import re\n",
    "\n",
    "def contains_special_characters(input_string):\n",
    "    # Use a regular expression to check for special characters\n",
    "    special_characters = re.compile(r'[^a-zA-Z0-9]')\n",
    "\n",
    "    # Check if the string contains any special characters\n",
    "    return bool(special_characters.search(input_string))\n",
    "\n",
    "# Example usage\n",
    "text1 = \"Hello123\"\n",
    "text2 = \"Hello@World\"\n",
    "\n",
    "print(f\"{text1} contains special characters: {contains_special_characters(text1)}\")\n",
    "print(f\"{text2} contains special characters: {contains_special_characters(text2)}\")"
   ]
  },
  {
   "cell_type": "code",
   "execution_count": 2,
   "id": "6bedc4b2-9486-4efa-91c4-8a21d11c87bc",
   "metadata": {},
   "outputs": [
    {
     "name": "stdout",
     "output_type": "stream",
     "text": [
      "Original String: This is an example sentence.\n",
      "String after removing the 2th word: This is example sentence.\n"
     ]
    }
   ],
   "source": [
    "'''48. Remove the nth word from a string.'''\n",
    "\n",
    "def remove_nth_word(input_string, n):\n",
    "    # Split the string into words\n",
    "    words = input_string.split()\n",
    "\n",
    "    # Check if the index is valid\n",
    "    if 0 <= n < len(words):\n",
    "        # Remove the nth word\n",
    "        del words[n]\n",
    "\n",
    "        # Join the words back into a string\n",
    "        result_string = ' '.join(words)\n",
    "        return result_string\n",
    "    else:\n",
    "        # Index out of range\n",
    "        return \"Invalid index\"\n",
    "\n",
    "# Example usage\n",
    "original_string = \"This is an example sentence.\"\n",
    "index_to_remove = 2\n",
    "\n",
    "result = remove_nth_word(original_string, index_to_remove)\n",
    "print(f\"Original String: {original_string}\")\n",
    "print(f\"String after removing the {index_to_remove}th word: {result}\")"
   ]
  },
  {
   "cell_type": "code",
   "execution_count": 4,
   "id": "59027eed-d86d-4ab0-aeb4-c703f02f7e24",
   "metadata": {},
   "outputs": [
    {
     "name": "stdout",
     "output_type": "stream",
     "text": [
      "Original String: This is an example sentence.\n",
      "String after inserting 'new' at position 2: This is new an example sentence.\n"
     ]
    }
   ],
   "source": [
    "'''49. Insert a word at the nth position in a string.'''\n",
    "\n",
    "def insert_word_at_position(input_string, word_to_insert, n):\n",
    "    # Split the string into words\n",
    "    words = input_string.split()\n",
    "\n",
    "    # Check if the index is valid\n",
    "    if 0 <= n <= len(words):\n",
    "        # Insert the word at the nth position\n",
    "        words.insert(n, word_to_insert)\n",
    "\n",
    "        # Join the words back into a string\n",
    "        result_string = ' '.join(words)\n",
    "        return result_string\n",
    "    else:\n",
    "        # Index out of range\n",
    "        return \"Invalid index\"\n",
    "\n",
    "# Example usage\n",
    "original_string = \"This is an example sentence.\"\n",
    "word_to_insert = \"new\"\n",
    "position_to_insert = 2\n",
    "\n",
    "result = insert_word_at_position(original_string, word_to_insert, position_to_insert)\n",
    "print(f\"Original String: {original_string}\")\n",
    "print(f\"String after inserting '{word_to_insert}' at position {position_to_insert}: {result}\")"
   ]
  },
  {
   "cell_type": "code",
   "execution_count": 6,
   "id": "c2925005-acc4-4c11-bf8a-1b61064a8aa8",
   "metadata": {},
   "outputs": [
    {
     "name": "stdout",
     "output_type": "stream",
     "text": [
      "CSV List:\n",
      "['Name', ' Age', ' City']\n",
      "['John', ' 25', ' New York']\n",
      "['Alice', ' 30', ' Los Angeles']\n",
      "['Bob', ' 22', ' Chicago']\n"
     ]
    }
   ],
   "source": [
    "'''50. Convert a CSV string to a list of lists.'''\n",
    "\n",
    "import csv\n",
    "from io import StringIO\n",
    "\n",
    "def csv_string_to_list(csv_string):\n",
    "    # Use StringIO to create a file-like object\n",
    "    csv_file = StringIO(csv_string)\n",
    "\n",
    "    # Use the csv.reader to read the CSV data\n",
    "    csv_reader = csv.reader(csv_file)\n",
    "    \n",
    "    # Convert the reader object to a list of lists\n",
    "    csv_data = list(csv_reader)\n",
    "\n",
    "    return csv_data\n",
    "\n",
    "# Example usage\n",
    "csv_string = \"Name, Age, City\\nJohn, 25, New York\\nAlice, 30, Los Angeles\\nBob, 22, Chicago\"\n",
    "\n",
    "csv_list = csv_string_to_list(csv_string)\n",
    "print(\"CSV List:\")\n",
    "for row in csv_list:\n",
    "    print(row)"
   ]
  },
  {
   "cell_type": "raw",
   "id": "ddd2816d-4fa3-44f9-a0ae-1c97df4e6389",
   "metadata": {},
   "source": [
    ">PART 2 : TOPIC:List Based Practice Problem "
   ]
  },
  {
   "cell_type": "code",
   "execution_count": 8,
   "id": "f27687b7-c7f8-47cf-8e60-f879e4acd356",
   "metadata": {},
   "outputs": [
    {
     "name": "stdout",
     "output_type": "stream",
     "text": [
      "[1, 2, 3, 4, 5, 6, 7, 8, 9, 10]\n"
     ]
    }
   ],
   "source": [
    "'''1. Create a list with integers from 1 to 10.'''\n",
    "# Generates integers from 1 to 10\n",
    "integer_list = list(range(1, 11))\n",
    "\n",
    "# Display integer list\n",
    "print(integer_list)"
   ]
  },
  {
   "cell_type": "code",
   "execution_count": 9,
   "id": "00d3b36b-66ab-43fb-8e42-0cde35b8e998",
   "metadata": {},
   "outputs": [
    {
     "name": "stdout",
     "output_type": "stream",
     "text": [
      "Length of the list: 10\n"
     ]
    }
   ],
   "source": [
    "'''2. Find the length of a list without using the `len()` function.'''\n",
    "\n",
    "# Define Function\n",
    "def find_list_length(my_list):\n",
    "    length = 0\n",
    "    for _ in my_list:\n",
    "        length += 1\n",
    "    return length\n",
    "\n",
    "# Example usage\n",
    "my_list = [1, 2, 3, 4, 5, 6, 7, 8, 9, 10]\n",
    "\n",
    "length_of_list = find_list_length(my_list)\n",
    "# Display length of list\n",
    "print(f\"Length of the list: {length_of_list}\")"
   ]
  },
  {
   "cell_type": "code",
   "execution_count": 10,
   "id": "efac99c5-7768-420d-bc04-555fb9090a40",
   "metadata": {},
   "outputs": [
    {
     "name": "stdout",
     "output_type": "stream",
     "text": [
      "Updated List: [1, 2, 3, 4, 5, 6]\n"
     ]
    }
   ],
   "source": [
    "'''3. Append an element to the end of a list.'''\n",
    "\n",
    "my_list = [1, 2, 3, 4, 5]\n",
    "new_element = 6\n",
    "\n",
    "# Append the new element to the end of the list\n",
    "my_list.append(new_element)\n",
    "\n",
    "# Display Result\n",
    "print(\"Updated List:\", my_list)"
   ]
  },
  {
   "cell_type": "code",
   "execution_count": 11,
   "id": "4f89c443-b3c7-4b06-8064-85aaf04ae9ca",
   "metadata": {},
   "outputs": [
    {
     "name": "stdout",
     "output_type": "stream",
     "text": [
      "Updated List: [1, 2, 99, 3, 4, 5]\n"
     ]
    }
   ],
   "source": [
    "'''4. Insert an element at a specific index in a list.'''\n",
    "\n",
    "my_list = [1, 2, 3, 4, 5]\n",
    "new_element = 99\n",
    "index_to_insert = 2\n",
    "\n",
    "# Insert the new element at the specified index\n",
    "my_list.insert(index_to_insert, new_element)\n",
    "\n",
    "# Display Result\n",
    "print(\"Updated List:\", my_list)"
   ]
  },
  {
   "cell_type": "code",
   "execution_count": 12,
   "id": "ec920a3f-c2cc-4985-a84a-d24d39aba593",
   "metadata": {},
   "outputs": [
    {
     "name": "stdout",
     "output_type": "stream",
     "text": [
      "Updated List: [1, 2, 4, 5]\n"
     ]
    }
   ],
   "source": [
    "'''5. Remove an element from a list by its value.'''\n",
    "\n",
    "my_list = [1, 2, 3, 4, 5]\n",
    "value_to_remove = 3\n",
    "\n",
    "# Remove the element with the specified value\n",
    "my_list.remove(value_to_remove)\n",
    "\n",
    "# Display Result\n",
    "print(\"Updated List:\", my_list)"
   ]
  },
  {
   "cell_type": "code",
   "execution_count": 14,
   "id": "5f773a32-1945-43aa-8e88-9759d6a5c9e1",
   "metadata": {},
   "outputs": [
    {
     "name": "stdout",
     "output_type": "stream",
     "text": [
      "Updated List: [1, 2, 4, 5]\n",
      "Removed Element: 3\n"
     ]
    }
   ],
   "source": [
    "'''6. Remove an element from a list by its index.'''\n",
    "\n",
    "my_list = [1, 2, 3, 4, 5]\n",
    "index_to_remove = 2\n",
    "\n",
    "# Remove the element at the specified index\n",
    "removed_element = my_list.pop(index_to_remove)\n",
    "\n",
    "# Display Result\n",
    "print(\"Updated List:\", my_list)\n",
    "print(\"Removed Element:\", removed_element)"
   ]
  },
  {
   "cell_type": "code",
   "execution_count": 15,
   "id": "20cf9275-90ac-4a29-a231-ff91e0216b4b",
   "metadata": {},
   "outputs": [
    {
     "name": "stdout",
     "output_type": "stream",
     "text": [
      "3 exists in the list.\n"
     ]
    }
   ],
   "source": [
    "'''7. Check if an element exists in a list.'''\n",
    "\n",
    "my_list = [1, 2, 3, 4, 5]\n",
    "element_to_check = 3\n",
    "\n",
    "# Check if the element exists in the list\n",
    "if element_to_check in my_list:\n",
    "    print(f\"{element_to_check} exists in the list.\")\n",
    "else:\n",
    "    print(f\"{element_to_check} does not exist in the list.\")"
   ]
  },
  {
   "cell_type": "code",
   "execution_count": 17,
   "id": "ff792281-eb65-45b7-9c4e-bef35d47a9cf",
   "metadata": {},
   "outputs": [
    {
     "name": "stdout",
     "output_type": "stream",
     "text": [
      "The index of 30 is 2\n"
     ]
    }
   ],
   "source": [
    "'''8. Find the index of the first occurrence of an element in a list.'''\n",
    "\n",
    "# Example list\n",
    "my_list = [10, 20, 30, 40, 50, 30]\n",
    "\n",
    "# Element to find the index of\n",
    "element_to_find = 30\n",
    "\n",
    "# Find the index of the first occurrence of the element\n",
    "index = my_list.index(element_to_find)\n",
    "\n",
    "# Print the index\n",
    "print(f\"The index of {element_to_find} is {index}\")\n",
    "\n"
   ]
  },
  {
   "cell_type": "code",
   "execution_count": 18,
   "id": "ec2fd812-f52d-4058-859d-7d00f44df07e",
   "metadata": {},
   "outputs": [
    {
     "name": "stdout",
     "output_type": "stream",
     "text": [
      "The element 3 appears 3 times in the list.\n"
     ]
    }
   ],
   "source": [
    "'''9. Count the occurrences of an element in a list.'''\n",
    "\n",
    "my_list = [1, 2, 3, 4, 3, 5, 3]\n",
    "element_to_count = 3\n",
    "\n",
    "# Count the occurrences of the element in the list\n",
    "occurrences = my_list.count(element_to_count)\n",
    "\n",
    "print(f\"The element {element_to_count} appears {occurrences} times in the list.\")"
   ]
  },
  {
   "cell_type": "code",
   "execution_count": 19,
   "id": "d995c1b7-ad1b-4799-bc74-ca3643c7780b",
   "metadata": {},
   "outputs": [
    {
     "name": "stdout",
     "output_type": "stream",
     "text": [
      "Reversed List: [5, 4, 3, 2, 1]\n"
     ]
    }
   ],
   "source": [
    "'''10. Reverse the order of elements in a list.'''\n",
    "\n",
    "my_list = [1, 2, 3, 4, 5]\n",
    "\n",
    "# Reverse the order of elements using reverse()\n",
    "my_list.reverse()\n",
    "\n",
    "# Display Result\n",
    "print(\"Reversed List:\", my_list)\n",
    "\n"
   ]
  },
  {
   "cell_type": "code",
   "execution_count": 20,
   "id": "6e32ce50-92b7-41f2-9a9c-a85b1da5cebc",
   "metadata": {},
   "outputs": [
    {
     "name": "stdout",
     "output_type": "stream",
     "text": [
      "Sorted List: [1, 2, 3, 5, 8]\n"
     ]
    }
   ],
   "source": [
    "'''11. Sort a list in ascending order.'''\n",
    "\n",
    "my_list = [5, 2, 8, 1, 3]\n",
    "\n",
    "# Sort the list in ascending order using sort()\n",
    "my_list.sort()\n",
    "\n",
    "# Display Result\n",
    "print(\"Sorted List:\", my_list)"
   ]
  },
  {
   "cell_type": "code",
   "execution_count": 21,
   "id": "aec0490a-816e-4095-b876-6aef8a4c804c",
   "metadata": {},
   "outputs": [
    {
     "name": "stdout",
     "output_type": "stream",
     "text": [
      "Sorted List (Descending): [8, 5, 3, 2, 1]\n"
     ]
    }
   ],
   "source": [
    "'''12. Sort a list in descending order.'''\n",
    "\n",
    "my_list = [5, 2, 8, 1, 3]\n",
    "\n",
    "# Sort the list in descending order using sort()\n",
    "my_list.sort(reverse=True)\n",
    "\n",
    "# Display Result\n",
    "print(\"Sorted List (Descending):\", my_list)"
   ]
  },
  {
   "cell_type": "code",
   "execution_count": 23,
   "id": "9acdfd7f-ef66-4f08-84ce-c3a497f95599",
   "metadata": {},
   "outputs": [
    {
     "name": "stdout",
     "output_type": "stream",
     "text": [
      "[2, 4, 6, 8, 10, 12, 14, 16, 18, 20]\n"
     ]
    }
   ],
   "source": [
    "'''13. Create a list of even numbers from 1 to 20.'''\n",
    "# generates numbers from 2 to 20,  with a step of 2\n",
    "even_numbers = [i for i in range(2, 21, 2)]\n",
    "\n",
    "# Display Result\n",
    "print(even_numbers)"
   ]
  },
  {
   "cell_type": "code",
   "execution_count": 24,
   "id": "9f6a27b9-e059-4740-8f87-4815364fde04",
   "metadata": {},
   "outputs": [
    {
     "name": "stdout",
     "output_type": "stream",
     "text": [
      "[1, 3, 5, 7, 9, 11, 13, 15, 17, 19]\n"
     ]
    }
   ],
   "source": [
    "'''14. Create a list of odd numbers from 1 to 20.'''\n",
    "\n",
    "# generates numbers from 1 to 19,  with a step of 2\n",
    "odd_numbers = [i for i in range(1, 21, 2)]\n",
    "\n",
    "# Display Result\n",
    "print(odd_numbers)\n",
    "\n"
   ]
  },
  {
   "cell_type": "code",
   "execution_count": 25,
   "id": "bb607f66-4e15-452d-94b9-937d33c50472",
   "metadata": {},
   "outputs": [
    {
     "name": "stdout",
     "output_type": "stream",
     "text": [
      "Sum of all elements: 15\n"
     ]
    }
   ],
   "source": [
    "'''15. Find the sum of all elements in a list.'''\n",
    "\n",
    "my_list = [1, 2, 3, 4, 5]\n",
    "\n",
    "# Find the sum of all elements using sum()\n",
    "list_sum = sum(my_list)\n",
    "\n",
    "# Display Result\n",
    "print(\"Sum of all elements:\", list_sum)"
   ]
  },
  {
   "cell_type": "code",
   "execution_count": 26,
   "id": "84da2d6a-f389-4961-99ee-800340d82006",
   "metadata": {},
   "outputs": [
    {
     "name": "stdout",
     "output_type": "stream",
     "text": [
      "Maximum value: 9\n"
     ]
    }
   ],
   "source": [
    "'''16. Find the maximum value in a list.'''\n",
    "\n",
    "my_list = [3, 7, 1, 9, 4]\n",
    "\n",
    "# Find the maximum value in the list using max()\n",
    "max_value = max(my_list)\n",
    "\n",
    "# Display Result\n",
    "print(\"Maximum value:\", max_value)"
   ]
  },
  {
   "cell_type": "code",
   "execution_count": 28,
   "id": "6eee0c1b-116f-4d64-be11-26283f7bf528",
   "metadata": {},
   "outputs": [
    {
     "name": "stdout",
     "output_type": "stream",
     "text": [
      "Minimum value: 1\n"
     ]
    }
   ],
   "source": [
    "'''17. Find the minimum value in a list.'''\n",
    "\n",
    "my_list = [3, 7, 1, 9, 4]\n",
    "\n",
    "# Find the minimum value in the list using min()\n",
    "min_value = min(my_list)\n",
    "\n",
    "# Display Result\n",
    "print(\"Minimum value:\", min_value)\n",
    "\n"
   ]
  },
  {
   "cell_type": "code",
   "execution_count": 29,
   "id": "1cef8af0-2dde-45d7-965c-226b127d1341",
   "metadata": {},
   "outputs": [
    {
     "name": "stdout",
     "output_type": "stream",
     "text": [
      "[1, 4, 9, 16, 25, 36, 49, 64, 81, 100]\n"
     ]
    }
   ],
   "source": [
    "'''18. Create a list of squares of numbers from 1 to 10.'''\n",
    "\n",
    "# generates numbers from 1 to 10 and the list creates a list containing the squares of these numbers.\n",
    "squares = [i**2 for i in range(1, 11)]\n",
    "\n",
    "# Display Result\n",
    "print(squares)\n",
    "\n"
   ]
  },
  {
   "cell_type": "code",
   "execution_count": 30,
   "id": "92cb20e0-bd6e-41dd-95aa-2db210bbe1c1",
   "metadata": {},
   "outputs": [
    {
     "name": "stdout",
     "output_type": "stream",
     "text": [
      "[9, 8, 5, 3, 8]\n"
     ]
    }
   ],
   "source": [
    "'''19. Create a list of random numbers.'''\n",
    "\n",
    "import random\n",
    "\n",
    "# Create a list of 5 random numbers between 1 and 10\n",
    "random_numbers = [random.randint(1, 10) for _ in range(5)]\n",
    "\n",
    "# Display Result\n",
    "print(random_numbers)"
   ]
  },
  {
   "cell_type": "code",
   "execution_count": 31,
   "id": "a2da95f7-f5a9-481e-b7e7-5d3d14050c07",
   "metadata": {},
   "outputs": [
    {
     "name": "stdout",
     "output_type": "stream",
     "text": [
      "Original List: [1, 2, 2, 3, 4, 4, 5]\n",
      "List with Duplicates Removed: [1, 2, 3, 4, 5]\n"
     ]
    }
   ],
   "source": [
    "'''20. Remove duplicates from a list.'''\n",
    "\n",
    "\n",
    "my_list = [1, 2, 2, 3, 4, 4, 5]\n",
    "\n",
    "# Remove duplicates by converting to a set and back to a list\n",
    "unique_list = list(set(my_list))\n",
    "\n",
    "# Display Result\n",
    "print(\"Original List:\", my_list)\n",
    "print(\"List with Duplicates Removed:\", unique_list)\n",
    "\n"
   ]
  },
  {
   "cell_type": "code",
   "execution_count": 32,
   "id": "42bc0e7d-eb77-4378-945d-19148237e63d",
   "metadata": {},
   "outputs": [
    {
     "name": "stdout",
     "output_type": "stream",
     "text": [
      "List 1: [1, 2, 3, 4, 5]\n",
      "List 2: [3, 4, 5, 6, 7]\n",
      "Common Elements: [3, 4, 5]\n"
     ]
    }
   ],
   "source": [
    "'''21. Find the common elements between two lists.'''\n",
    "\n",
    "list1 = [1, 2, 3, 4, 5]\n",
    "list2 = [3, 4, 5, 6, 7]\n",
    "\n",
    "# Find common elements using set intersection\n",
    "common_elements = list(set(list1).intersection(list2))\n",
    "\n",
    "# Display Result\n",
    "print(\"List 1:\", list1)\n",
    "print(\"List 2:\", list2)\n",
    "print(\"Common Elements:\", common_elements)"
   ]
  },
  {
   "cell_type": "code",
   "execution_count": 33,
   "id": "59143970-9df3-4743-92e9-83d30a07c22e",
   "metadata": {},
   "outputs": [
    {
     "name": "stdout",
     "output_type": "stream",
     "text": [
      "List 1: [1, 2, 3, 4, 5]\n",
      "List 2: [3, 4, 5, 6, 7]\n",
      "Elements unique to List 1: [1, 2]\n",
      "Elements unique to List 2: [6, 7]\n"
     ]
    }
   ],
   "source": [
    "'''22. Find the difference between two lists.'''\n",
    "\n",
    "list1 = [1, 2, 3, 4, 5]\n",
    "list2 = [3, 4, 5, 6, 7]\n",
    "\n",
    "# Find the difference using set difference\n",
    "difference_list1 = list(set(list1) - set(list2))\n",
    "difference_list2 = list(set(list2) - set(list1))\n",
    "\n",
    "# Display Result\n",
    "print(\"List 1:\", list1)\n",
    "print(\"List 2:\", list2)\n",
    "print(\"Elements unique to List 1:\", difference_list1)\n",
    "print(\"Elements unique to List 2:\", difference_list2)"
   ]
  },
  {
   "cell_type": "code",
   "execution_count": 34,
   "id": "327668de-9cd9-4169-9062-a9126349d6e8",
   "metadata": {},
   "outputs": [
    {
     "name": "stdout",
     "output_type": "stream",
     "text": [
      "List 1: [1, 2, 3]\n",
      "List 2: [4, 5, 6]\n",
      "Merged List: [1, 2, 3, 4, 5, 6]\n"
     ]
    }
   ],
   "source": [
    "'''23. Merge two lists.'''\n",
    "\n",
    "list1 = [1, 2, 3]\n",
    "list2 = [4, 5, 6]\n",
    "\n",
    "# Merge lists using the + operator\n",
    "merged_list = list1 + list2\n",
    "\n",
    "# Display Result\n",
    "print(\"List 1:\", list1)\n",
    "print(\"List 2:\", list2)\n",
    "print(\"Merged List:\", merged_list)"
   ]
  },
  {
   "cell_type": "code",
   "execution_count": 35,
   "id": "211783cb-450f-4484-bbdd-9646d13b50af",
   "metadata": {},
   "outputs": [
    {
     "name": "stdout",
     "output_type": "stream",
     "text": [
      "Original List: [1, 2, 3, 4, 5]\n",
      "Doubled List: [2, 4, 6, 8, 10]\n"
     ]
    }
   ],
   "source": [
    "'''24. Multiply all elements in a list by 2.'''\n",
    "\n",
    "original_list = [1, 2, 3, 4, 5]\n",
    "\n",
    "# Multiply all elements by 2 using list comprehension\n",
    "doubled_list = [element * 2 for element in original_list]\n",
    "\n",
    "# Display Result\n",
    "print(\"Original List:\", original_list)\n",
    "print(\"Doubled List:\", doubled_list)"
   ]
  },
  {
   "cell_type": "code",
   "execution_count": 36,
   "id": "eb75c52a-5067-4084-8f48-449713fc83f8",
   "metadata": {},
   "outputs": [
    {
     "name": "stdout",
     "output_type": "stream",
     "text": [
      "Original List: [1, 2, 3, 4, 5, 6, 7, 8, 9, 10]\n",
      "Filtered List (without even numbers): [1, 3, 5, 7, 9]\n"
     ]
    }
   ],
   "source": [
    "'''25. Filter out all even numbers from a list.'''\n",
    "\n",
    "original_list = [1, 2, 3, 4, 5, 6, 7, 8, 9, 10]\n",
    "\n",
    "# Filter out even numbers using list comprehension\n",
    "filtered_list = [element for element in original_list if element % 2 != 0]\n",
    "\n",
    "# Display Result\n",
    "print(\"Original List:\", original_list)\n",
    "print(\"Filtered List (without even numbers):\", filtered_list)"
   ]
  },
  {
   "cell_type": "code",
   "execution_count": 37,
   "id": "81e10b80-1330-4736-87ca-d2f970bf6470",
   "metadata": {},
   "outputs": [
    {
     "name": "stdout",
     "output_type": "stream",
     "text": [
      "Original List of Strings: ['1', '2', '3', '4', '5']\n",
      "Converted List of Integers: [1, 2, 3, 4, 5]\n"
     ]
    }
   ],
   "source": [
    "'''26. Convert a list of strings to a list of integers.'''\n",
    "\n",
    "string_list = [\"1\", \"2\", \"3\", \"4\", \"5\"]\n",
    "\n",
    "# Convert list of strings to list of integers using list comprehension\n",
    "integer_list = [int(element) for element in string_list]\n",
    "\n",
    "# Display Result\n",
    "print(\"Original List of Strings:\", string_list)\n",
    "print(\"Converted List of Integers:\", integer_list)"
   ]
  },
  {
   "cell_type": "code",
   "execution_count": 38,
   "id": "76175e0b-0f78-47b1-a6c1-740024a6c12b",
   "metadata": {},
   "outputs": [
    {
     "name": "stdout",
     "output_type": "stream",
     "text": [
      "Original List of Integers: [1, 2, 3, 4, 5]\n",
      "Converted List of Strings: ['1', '2', '3', '4', '5']\n"
     ]
    }
   ],
   "source": [
    "'''27. Convert a list of integers to a list of strings.'''\n",
    "\n",
    "integer_list = [1, 2, 3, 4, 5]\n",
    "\n",
    "# Convert list of integers to list of strings using list comprehension\n",
    "string_list = [str(element) for element in integer_list]\n",
    "\n",
    "# Display Result\n",
    "print(\"Original List of Integers:\", integer_list)\n",
    "print(\"Converted List of Strings:\", string_list)\n",
    "\n"
   ]
  },
  {
   "cell_type": "code",
   "execution_count": 41,
   "id": "142aa549-6902-4db2-9202-10482b88275f",
   "metadata": {},
   "outputs": [
    {
     "name": "stdout",
     "output_type": "stream",
     "text": [
      "Nested List: [1, [2, 3], [4, [5, 6]], 7]\n",
      "Flattened List: [1, 2, 3, 4, 5, 6, 7]\n"
     ]
    }
   ],
   "source": [
    "'''28. Flatten a nested list.'''\n",
    "\n",
    "# Flatten_list function recursively processes each element of the nested list\n",
    "def flatten_list(nested_list):\n",
    "    flat_list = []\n",
    "    for element in nested_list:\n",
    "        if isinstance(element, list):\n",
    "            flat_list.extend(flatten_list(element))\n",
    "        else:\n",
    "            flat_list.append(element)\n",
    "    return flat_list\n",
    "\n",
    "nested_list = [1, [2, 3], [4, [5, 6]], 7]\n",
    "\n",
    "# Flatten the nested list using recursion\n",
    "flattened_list = flatten_list(nested_list)\n",
    "\n",
    "# Display Result\n",
    "print(\"Nested List:\", nested_list)\n",
    "print(\"Flattened List:\", flattened_list)"
   ]
  },
  {
   "cell_type": "code",
   "execution_count": 42,
   "id": "c55c2fe1-4cef-4b23-a75b-bc898f52e19c",
   "metadata": {},
   "outputs": [
    {
     "name": "stdout",
     "output_type": "stream",
     "text": [
      "First 10 Fibonacci Numbers: [0, 1, 1, 2, 3, 5, 8, 13, 21, 34]\n"
     ]
    }
   ],
   "source": [
    "'''29. Create a list of the first 10 Fibonacci numbers.'''\n",
    "\n",
    "fibonacci_numbers = [0, 1]\n",
    "\n",
    "# Generate the first 8 Fibonacci numbers\n",
    "for i in range(2, 10):\n",
    "    next_fibonacci = fibonacci_numbers[i-1] + fibonacci_numbers[i-2]\n",
    "    fibonacci_numbers.append(next_fibonacci)\n",
    "\n",
    "# Display Result    \n",
    "print(\"First 10 Fibonacci Numbers:\", fibonacci_numbers)"
   ]
  },
  {
   "cell_type": "code",
   "execution_count": 43,
   "id": "7bb069ae-0885-44f2-a149-ef682f16947b",
   "metadata": {},
   "outputs": [
    {
     "name": "stdout",
     "output_type": "stream",
     "text": [
      "Is the list sorted? True\n",
      "Is the list sorted? False\n"
     ]
    }
   ],
   "source": [
    "'''30. Check if a list is sorted.'''\n",
    "\n",
    "# Define Function\n",
    "def is_sorted(input_list):\n",
    "    return all(input_list[i] <= input_list[i + 1] for i in range(len(input_list) - 1))\n",
    "\n",
    "# Example usage\n",
    "sorted_list = [1, 2, 3, 4, 5]\n",
    "unsorted_list = [3, 1, 4, 1, 5, 9, 2]\n",
    "\n",
    "# Display Result\n",
    "print(\"Is the list sorted?\", is_sorted(sorted_list))  # Should print: True\n",
    "print(\"Is the list sorted?\", is_sorted(unsorted_list))  # Should print: False"
   ]
  },
  {
   "cell_type": "code",
   "execution_count": 44,
   "id": "e341fe7e-6238-411d-9a61-c7bf4c32c355",
   "metadata": {},
   "outputs": [
    {
     "name": "stdout",
     "output_type": "stream",
     "text": [
      "Original List: [1, 2, 3, 4, 5]\n",
      "Rotated List: [3, 4, 5, 1, 2]\n"
     ]
    }
   ],
   "source": [
    "'''31. Rotate a list to the left by `n` positions.'''\n",
    "\n",
    "# Define Function\n",
    "def rotate_left(input_list, n):\n",
    "    n = n % len(input_list)  # Ensure n is within the length of the list\n",
    "    return input_list[n:] + input_list[:n]\n",
    "\n",
    "# Example usage\n",
    "my_list = [1, 2, 3, 4, 5]\n",
    "\n",
    "rotated_list = rotate_left(my_list, 2)\n",
    "\n",
    "# Display Result\n",
    "print(\"Original List:\", my_list)\n",
    "print(\"Rotated List:\", rotated_list)"
   ]
  },
  {
   "cell_type": "code",
   "execution_count": 45,
   "id": "5eb8b74e-64e4-4a21-84d7-f9dbc4e5d17d",
   "metadata": {},
   "outputs": [
    {
     "name": "stdout",
     "output_type": "stream",
     "text": [
      "Original List: [1, 2, 3, 4, 5]\n",
      "Rotated List: [4, 5, 1, 2, 3]\n"
     ]
    }
   ],
   "source": [
    "'''32. Rotate a list to the right by `n` positions.'''\n",
    "\n",
    "# Define Function\n",
    "def rotate_right(input_list, n):\n",
    "    n = n % len(input_list)  # Ensure n is within the length of the list\n",
    "    return input_list[-n:] + input_list[:-n]\n",
    "\n",
    "# Example usage\n",
    "my_list = [1, 2, 3, 4, 5]\n",
    "\n",
    "rotated_list = rotate_right(my_list, 2)\n",
    "\n",
    "# Display Result\n",
    "print(\"Original List:\", my_list)\n",
    "print(\"Rotated List:\", rotated_list)"
   ]
  },
  {
   "cell_type": "code",
   "execution_count": 46,
   "id": "abc426dd-b901-41f1-8b53-846841b5dbb6",
   "metadata": {},
   "outputs": [
    {
     "name": "stdout",
     "output_type": "stream",
     "text": [
      "Prime Numbers up to 50: [2, 3, 5, 7, 11, 13, 17, 19, 23, 29, 31, 37, 41, 43, 47]\n"
     ]
    }
   ],
   "source": [
    "'''33. Create a list of prime numbers up to 50.'''\n",
    "\n",
    "# Define Function\n",
    "def is_prime(number):\n",
    "    if number < 2:\n",
    "        return False\n",
    "    for i in range(2, int(number**0.5) + 1):\n",
    "        if number % i == 0:\n",
    "            return False\n",
    "    return True\n",
    "\n",
    "# Generate a list of prime numbers up to 50\n",
    "primes_up_to_50 = [num for num in range(2, 51) if is_prime(num)]\n",
    "\n",
    "# Display Result\n",
    "print(\"Prime Numbers up to 50:\", primes_up_to_50)"
   ]
  },
  {
   "cell_type": "code",
   "execution_count": 47,
   "id": "b095ba49-4e1b-465f-89bd-8a9d05943e9b",
   "metadata": {},
   "outputs": [
    {
     "name": "stdout",
     "output_type": "stream",
     "text": [
      "Original List: [1, 2, 3, 4, 5, 6, 7, 8, 9, 10]\n",
      "Chunks of Size 3: [[1, 2, 3], [4, 5, 6], [7, 8, 9], [10]]\n"
     ]
    }
   ],
   "source": [
    "'''34. Split a list into chunks of size `n`.'''\n",
    "\n",
    "# Define Function\n",
    "def split_into_chunks(input_list, chunk_size):\n",
    "    return [input_list[i:i + chunk_size] for i in range(0, len(input_list), chunk_size)]\n",
    "\n",
    "# Example usage\n",
    "my_list = [1, 2, 3, 4, 5, 6, 7, 8, 9, 10]\n",
    "\n",
    "chunks = split_into_chunks(my_list, 3)\n",
    "\n",
    "# Display Result\n",
    "print(\"Original List:\", my_list)\n",
    "print(\"Chunks of Size 3:\", chunks)\n"
   ]
  },
  {
   "cell_type": "code",
   "execution_count": 48,
   "id": "2d775cb4-34a0-4a91-8ac9-7747932a70f9",
   "metadata": {},
   "outputs": [
    {
     "name": "stdout",
     "output_type": "stream",
     "text": [
      "Original List: [3, 1, 4, 1, 5, 9, 2, 6, 5, 3, 5]\n",
      "Second Largest Element: 6\n"
     ]
    }
   ],
   "source": [
    "'''35. Find the second largest number in a list.'''\n",
    "\n",
    "def second_largest(input_list):\n",
    "    # Make a copy of the list to avoid modifying the original\n",
    "    unique_elements = list(set(input_list))\n",
    "\n",
    "    # Find the maximum element\n",
    "    max_element = max(unique_elements)\n",
    "\n",
    "    # Remove the maximum element\n",
    "    unique_elements.remove(max_element)\n",
    "\n",
    "    # Find the new maximum element (second largest)\n",
    "    second_largest_element = max(unique_elements)\n",
    "\n",
    "    return second_largest_element\n",
    "\n",
    "# Example usage\n",
    "my_list = [3, 1, 4, 1, 5, 9, 2, 6, 5, 3, 5]\n",
    "\n",
    "result = second_largest(my_list)\n",
    "\n",
    "# Display Result\n",
    "print(\"Original List:\", my_list)\n",
    "print(\"Second Largest Element:\", result)"
   ]
  },
  {
   "cell_type": "code",
   "execution_count": 49,
   "id": "f295350b-4d4c-40ca-8d2e-bc33829027b1",
   "metadata": {},
   "outputs": [
    {
     "name": "stdout",
     "output_type": "stream",
     "text": [
      "Original List: [1, 2, 3, 4, 5]\n",
      "Squared List: [1, 4, 9, 16, 25]\n"
     ]
    }
   ],
   "source": [
    "'''36. Replace every element in a list with its square.'''\n",
    "\n",
    "original_list = [1, 2, 3, 4, 5]\n",
    "\n",
    "# Replace every element with its square using list comprehension\n",
    "squared_list = [element**2 for element in original_list]\n",
    "\n",
    "# Display Result\n",
    "print(\"Original List:\", original_list)\n",
    "print(\"Squared List:\", squared_list)"
   ]
  },
  {
   "cell_type": "code",
   "execution_count": 50,
   "id": "9faf6daf-0a75-4cdb-9c2c-949aacc4bac4",
   "metadata": {},
   "outputs": [
    {
     "name": "stdout",
     "output_type": "stream",
     "text": [
      "Original List: ['apple', 'banana', 'orange', 'grape']\n",
      "Resulting Dictionary: {'apple': 0, 'banana': 1, 'orange': 2, 'grape': 3}\n"
     ]
    }
   ],
   "source": [
    "'''37. Convert a list to a dictionary where list elements become keys and their indices become values.'''\n",
    "\n",
    "original_list = ['apple', 'banana', 'orange', 'grape']\n",
    "\n",
    "# Convert the list to a dictionary with elements as keys and indices as values\n",
    "result_dict = {element: index for index, element in enumerate(original_list)}\n",
    "\n",
    "# Display Result\n",
    "print(\"Original List:\", original_list)\n",
    "print(\"Resulting Dictionary:\", result_dict)\n",
    "\n",
    "\n"
   ]
  },
  {
   "cell_type": "code",
   "execution_count": 51,
   "id": "ebcda262-84df-44f0-a59e-40f8562d896d",
   "metadata": {},
   "outputs": [
    {
     "name": "stdout",
     "output_type": "stream",
     "text": [
      "Original List: [2, 1, 5, 4, 3]\n"
     ]
    }
   ],
   "source": [
    "'''38. Shuffle the elements of a list randomly.'''\n",
    "\n",
    "\n",
    "import random\n",
    "\n",
    "original_list = [1, 2, 3, 4, 5]\n",
    "\n",
    "# Shuffle the elements of the list randomly\n",
    "random.shuffle(original_list)\n",
    "\n",
    "# Display Result\n",
    "print(\"Original List:\", original_list)"
   ]
  },
  {
   "cell_type": "code",
   "execution_count": 52,
   "id": "f24c1a87-17f9-40ca-8c9f-e68d48faa313",
   "metadata": {},
   "outputs": [
    {
     "name": "stdout",
     "output_type": "stream",
     "text": [
      "First 10 Factorial Numbers: [1, 1, 2, 6, 24, 120, 720, 5040, 40320, 362880]\n"
     ]
    }
   ],
   "source": [
    "'''39. Create a list of the first 10 factorial numbers.'''\n",
    "\n",
    "import math\n",
    "\n",
    "# Calculates the factorial of each number from 0 to 9 using the math.factorial()\n",
    "factorial_numbers = [math.factorial(i) for i in range(10)]\n",
    "\n",
    "# Display Result\n",
    "print(\"First 10 Factorial Numbers:\", factorial_numbers)"
   ]
  },
  {
   "cell_type": "code",
   "execution_count": 53,
   "id": "aed2dc38-1f4e-43fd-9c49-6af713805c83",
   "metadata": {},
   "outputs": [
    {
     "name": "stdout",
     "output_type": "stream",
     "text": [
      "List 1: [1, 2, 3, 4, 5]\n",
      "List 2: [5, 6, 7, 8, 9]\n",
      "Do the lists have a common element? True\n"
     ]
    }
   ],
   "source": [
    "'''40. Check if two lists have at least one element in common.'''\n",
    "\n",
    "def have_common_element(list1, list2):\n",
    "    return any(element in list1 for element in list2)\n",
    "\n",
    "# Example usage\n",
    "list1 = [1, 2, 3, 4, 5]\n",
    "list2 = [5, 6, 7, 8, 9]\n",
    "\n",
    "result = have_common_element(list1, list2)\n",
    "\n",
    "# Display Result\n",
    "print(\"List 1:\", list1)\n",
    "print(\"List 2:\", list2)\n",
    "print(\"Do the lists have a common element?\", result)"
   ]
  },
  {
   "cell_type": "code",
   "execution_count": 54,
   "id": "b8cd4623-195f-4d39-bc63-8e07027db996",
   "metadata": {},
   "outputs": [
    {
     "name": "stdout",
     "output_type": "stream",
     "text": [
      "List after clearing: []\n"
     ]
    }
   ],
   "source": [
    "'''41. Remove all elements from a list.'''\n",
    "\n",
    "my_list = [1, 2, 3, 4, 5]\n",
    "\n",
    "# Clear all elements from the list\n",
    "my_list.clear()\n",
    "\n",
    "# Display Result\n",
    "print(\"List after clearing:\", my_list)"
   ]
  },
  {
   "cell_type": "code",
   "execution_count": 55,
   "id": "a8bb0969-62e3-4012-b3f8-09eab38bdcfa",
   "metadata": {},
   "outputs": [
    {
     "name": "stdout",
     "output_type": "stream",
     "text": [
      "Original List: [1, -2, 3, -4, 5, -6]\n",
      "Modified List: [1, 0, 3, 0, 5, 0]\n"
     ]
    }
   ],
   "source": [
    "'''42. Replace negative numbers in a list with 0.'''\n",
    "\n",
    "\n",
    "original_list = [1, -2, 3, -4, 5, -6]\n",
    "\n",
    "# Replace negative numbers with 0 using list comprehension\n",
    "modified_list = [max(0, num) for num in original_list]\n",
    "\n",
    "# Display Result\n",
    "print(\"Original List:\", original_list)\n",
    "print(\"Modified List:\", modified_list)"
   ]
  },
  {
   "cell_type": "code",
   "execution_count": 56,
   "id": "db92588e-8446-45f8-825f-1fc536e0baf4",
   "metadata": {},
   "outputs": [
    {
     "name": "stdout",
     "output_type": "stream",
     "text": [
      "Original Sentence: This is a sample sentence.\n",
      "List of Words: ['This', 'is', 'a', 'sample', 'sentence.']\n"
     ]
    }
   ],
   "source": [
    "'''43. Convert a string into a list of words.'''\n",
    "\n",
    "# Give Input\n",
    "sentence = \"This is a sample sentence.\"\n",
    "\n",
    "# Convert the string into a list of words\n",
    "word_list = sentence.split()\n",
    "\n",
    "# Display Result\n",
    "print(\"Original Sentence:\", sentence)\n",
    "print(\"List of Words:\", word_list)"
   ]
  },
  {
   "cell_type": "code",
   "execution_count": 58,
   "id": "c4b061ef-0584-4337-b318-b47051dd7f63",
   "metadata": {},
   "outputs": [
    {
     "name": "stdout",
     "output_type": "stream",
     "text": [
      "List of Words: ['This', 'is', 'a', 'sample', 'sentence.']\n",
      "Converted String: This is a sample sentence.\n"
     ]
    }
   ],
   "source": [
    "'''44. Convert a list of words into a string.'''\n",
    "\n",
    "word_list = ['This', 'is', 'a', 'sample', 'sentence.']\n",
    "\n",
    "# Convert the list of words into a string\n",
    "sentence = ' '.join(word_list)\n",
    "\n",
    "# Display Result\n",
    "print(\"List of Words:\", word_list)\n",
    "print(\"Converted String:\", sentence)"
   ]
  },
  {
   "cell_type": "code",
   "execution_count": 60,
   "id": "2befe482-fb1a-4254-acc7-2f2edbb04e10",
   "metadata": {},
   "outputs": [
    {
     "name": "stdout",
     "output_type": "stream",
     "text": [
      "The first 5 powers of 2: [1, 2, 4, 8, 16]\n"
     ]
    }
   ],
   "source": [
    "'''45. Create a list of the first `n` powers of 2.'''\n",
    "\n",
    "n = 5  # Replace with the desired number of powers of 2\n",
    "\n",
    "# Create a list of the first n powers of 2\n",
    "powers_of_2 = [2**i for i in range(n)]\n",
    "\n",
    "# Display Result\n",
    "print(f\"The first {n} powers of 2:\", powers_of_2)"
   ]
  },
  {
   "cell_type": "code",
   "execution_count": 61,
   "id": "c8bd0169-2f1e-45ce-b782-e8e07653197f",
   "metadata": {},
   "outputs": [
    {
     "name": "stdout",
     "output_type": "stream",
     "text": [
      "List of Strings: ['apple', 'banana', 'kiwi', 'strawberry', 'blueberry']\n",
      "Longest String: strawberry\n"
     ]
    }
   ],
   "source": [
    "'''46. Find the longest string in a list of strings.'''\n",
    "\n",
    "string_list = ['apple', 'banana', 'kiwi', 'strawberry', 'blueberry']\n",
    "\n",
    "# Find the longest string in the list\n",
    "longest_string = max(string_list, key=len)\n",
    "\n",
    "# Display Result\n",
    "print(\"List of Strings:\", string_list)\n",
    "print(\"Longest String:\", longest_string)\n",
    "\n"
   ]
  },
  {
   "cell_type": "code",
   "execution_count": 62,
   "id": "800f2829-44c1-4646-881d-332450351d2a",
   "metadata": {},
   "outputs": [
    {
     "name": "stdout",
     "output_type": "stream",
     "text": [
      "List of Strings: ['apple', 'banana', 'kiwi', 'strawberry', 'blueberry']\n",
      "Shortest String: kiwi\n"
     ]
    }
   ],
   "source": [
    "'''47. Find the shortest string in a list of strings.'''\n",
    "\n",
    "string_list = ['apple', 'banana', 'kiwi', 'strawberry', 'blueberry']\n",
    "\n",
    "# Find the shortest string in the list\n",
    "shortest_string = min(string_list, key=len)\n",
    "\n",
    "# Display Result\n",
    "print(\"List of Strings:\", string_list)\n",
    "print(\"Shortest String:\", shortest_string)\n",
    "\n"
   ]
  },
  {
   "cell_type": "code",
   "execution_count": 63,
   "id": "993fd0b4-2fe3-4483-b2a9-f002572f7a17",
   "metadata": {},
   "outputs": [
    {
     "name": "stdout",
     "output_type": "stream",
     "text": [
      "The first 5 triangular numbers: [1, 3, 6, 10, 15]\n"
     ]
    }
   ],
   "source": [
    "'''48. Create a list of the first `n` triangular numbers.'''\n",
    "\n",
    "n = 5  # Replace with the desired number of triangular numbers\n",
    "\n",
    "# Create a list of the first n triangular numbers\n",
    "triangular_numbers = [i * (i + 1) // 2 for i in range(1, n + 1)]\n",
    "\n",
    "print(f\"The first {n} triangular numbers:\", triangular_numbers)"
   ]
  },
  {
   "cell_type": "code",
   "execution_count": 64,
   "id": "d1b16bcb-b9d1-444c-8fb9-a66507522eee",
   "metadata": {},
   "outputs": [
    {
     "name": "stdout",
     "output_type": "stream",
     "text": [
      "Sequence: [1, 2, 3, 4, 5, 6, 7, 8]\n",
      "Subsequence 1: [2, 4, 6]\n",
      "Is Subsequence 1: True\n",
      "Subsequence 2: [3, 7, 9]\n",
      "Is Subsequence 2: False\n"
     ]
    }
   ],
   "source": [
    "'''49. Check if a list contains another list as a subsequence.'''\n",
    "\n",
    "# Define Function\n",
    "def is_subsequence(subsequence, sequence):\n",
    "    it = iter(sequence)\n",
    "    return all(element in it for element in subsequence)\n",
    "\n",
    "# Example usage\n",
    "sequence = [1, 2, 3, 4, 5, 6, 7, 8]\n",
    "subsequence1 = [2, 4, 6]\n",
    "subsequence2 = [3, 7, 9]\n",
    "\n",
    "result1 = is_subsequence(subsequence1, sequence)\n",
    "result2 = is_subsequence(subsequence2, sequence)\n",
    "\n",
    "# Display Result\n",
    "print(\"Sequence:\", sequence)\n",
    "print(\"Subsequence 1:\", subsequence1)\n",
    "print(\"Is Subsequence 1:\", result1)\n",
    "\n",
    "print(\"Subsequence 2:\", subsequence2)\n",
    "print(\"Is Subsequence 2:\", result2)"
   ]
  },
  {
   "cell_type": "code",
   "execution_count": 65,
   "id": "9eb7b4fb-334b-4f6f-8a66-af076f097356",
   "metadata": {},
   "outputs": [
    {
     "name": "stdout",
     "output_type": "stream",
     "text": [
      "Original List: [1, 2, 3, 4, 5]\n",
      "List after swapping: [1, 4, 3, 2, 5]\n"
     ]
    }
   ],
   "source": [
    "'''50. Swap two elements in a list by their indices.'''\n",
    "\n",
    "# Define Function\n",
    "def swap_elements(lst, index1, index2):\n",
    "    # Check if indices are within the range of the list\n",
    "    if 0 <= index1 < len(lst) and 0 <= index2 < len(lst):\n",
    "        # Swap elements using a temporary variable\n",
    "        lst[index1], lst[index2] = lst[index2], lst[index1]\n",
    "\n",
    "# Example usage\n",
    "my_list = [1, 2, 3, 4, 5]\n",
    "\n",
    "print(\"Original List:\", my_list)\n",
    "\n",
    "# Swap elements at indices 1 and 3\n",
    "swap_elements(my_list, 1, 3)\n",
    "\n",
    "# Display Result\n",
    "print(\"List after swapping:\", my_list)"
   ]
  },
  {
   "cell_type": "raw",
   "id": "d32ca89b-eceb-4789-9932-921456894206",
   "metadata": {},
   "source": [
    ">PART 3 : TOPIC : Tuple Based Practice Problem "
   ]
  },
  {
   "cell_type": "code",
   "execution_count": 2,
   "id": "9d625678-f4e7-4271-b1e1-7e3288588f44",
   "metadata": {},
   "outputs": [
    {
     "name": "stdout",
     "output_type": "stream",
     "text": [
      "Tuple: (1, 2, 3, 4, 5)\n"
     ]
    }
   ],
   "source": [
    "'''1. Create a tuple with integers from 1 to 5.'''\n",
    "\n",
    "#  The tuple (1, 2, 3, 4, 5) is assigned to the variable my_tuple\n",
    "my_tuple = (1, 2, 3, 4, 5)\n",
    "\n",
    "# Display Result\n",
    "print(\"Tuple:\", my_tuple)"
   ]
  },
  {
   "cell_type": "code",
   "execution_count": 4,
   "id": "a7acf3d8-7e35-4d8f-ab4f-6103875b54ce",
   "metadata": {},
   "outputs": [
    {
     "name": "stdout",
     "output_type": "stream",
     "text": [
      "Tuple: (1, 2, 3, 4, 5)\n",
      "Third Element: 3\n"
     ]
    }
   ],
   "source": [
    "'''2. Access the third element of a tuple.'''\n",
    "\n",
    "#  The tuple (1, 2, 3, 4, 5) is assigned to the variable my_tuple\n",
    "my_tuple = (1, 2, 3, 4, 5)\n",
    "\n",
    "# Access the third element (index 2)\n",
    "third_element = my_tuple[2]\n",
    "\n",
    "# Display Result\n",
    "print(\"Tuple:\", my_tuple)\n",
    "print(\"Third Element:\", third_element)"
   ]
  },
  {
   "cell_type": "code",
   "execution_count": 5,
   "id": "8dd7245a-9d64-4f5c-a8fd-c52c670ac842",
   "metadata": {},
   "outputs": [
    {
     "name": "stdout",
     "output_type": "stream",
     "text": [
      "Tuple: (1, 2, 3, 4, 5)\n",
      "Length of the Tuple: 5\n"
     ]
    }
   ],
   "source": [
    "'''3. Find the length of a tuple without using the `len()` function.'''\n",
    "\n",
    "#  The tuple (1, 2, 3, 4, 5) is assigned to the variable my_tuple\n",
    "my_tuple = (1, 2, 3, 4, 5)\n",
    "\n",
    "# Find the length of the tuple without using len()\n",
    "tuple_length = sum(1 for _ in my_tuple)\n",
    "\n",
    "# Display Result\n",
    "print(\"Tuple:\", my_tuple)\n",
    "print(\"Length of the Tuple:\", tuple_length)"
   ]
  },
  {
   "cell_type": "code",
   "execution_count": 6,
   "id": "ac8aee39-89cb-4ca4-8d5b-d9714e6f672c",
   "metadata": {},
   "outputs": [
    {
     "name": "stdout",
     "output_type": "stream",
     "text": [
      "Tuple: (1, 2, 2, 3, 4, 2, 5)\n",
      "Occurrences of 2: 3\n"
     ]
    }
   ],
   "source": [
    "'''4. Count the occurrences of an element in a tuple.'''\n",
    "\n",
    "#  The tuple (1, 2, 2, 3, 4, 2, 5) is assigned to the variable my_tuple\n",
    "my_tuple = (1, 2, 2, 3, 4, 2, 5)\n",
    "\n",
    "# Count the occurrences of the element 2 in the tuple\n",
    "element_count = my_tuple.count(2)\n",
    "\n",
    "# Display Result\n",
    "print(\"Tuple:\", my_tuple)\n",
    "print(\"Occurrences of 2:\", element_count)\n",
    "\n"
   ]
  },
  {
   "cell_type": "code",
   "execution_count": 7,
   "id": "46452e97-81a0-4d42-b0a9-be3f5c6f5d20",
   "metadata": {},
   "outputs": [
    {
     "name": "stdout",
     "output_type": "stream",
     "text": [
      "Tuple: (1, 2, 3, 4, 2, 5)\n",
      "Index of the first occurrence of 2: 1\n"
     ]
    }
   ],
   "source": [
    "'''5. Find the index of the first occurrence of an element in a tuple.'''\n",
    "\n",
    "#  The tuple (1, 2, 3, 4, 5) is assigned to the variable my_tuple\n",
    "my_tuple = (1, 2, 3, 4, 2, 5)\n",
    "\n",
    "# Find the index of the first occurrence of the element 2 in the tuple\n",
    "element_index = my_tuple.index(2)\n",
    "\n",
    "# Display Result\n",
    "print(\"Tuple:\", my_tuple)\n",
    "print(\"Index of the first occurrence of 2:\", element_index)\n",
    "\n"
   ]
  },
  {
   "cell_type": "code",
   "execution_count": 8,
   "id": "df204fe5-d870-46fc-ac45-ace827d43cad",
   "metadata": {},
   "outputs": [
    {
     "name": "stdout",
     "output_type": "stream",
     "text": [
      "Tuple: (1, 2, 3, 4, 5)\n",
      "Does 3 exist in the tuple? True\n"
     ]
    }
   ],
   "source": [
    "'''6. Check if an element exists in a tuple.'''\n",
    "\n",
    "#  The tuple (1, 2, 3, 4, 5) is assigned to the variable my_tuple\n",
    "my_tuple = (1, 2, 3, 4, 5)\n",
    "\n",
    "# Check if the element 3 exists in the tuple\n",
    "element_exists = 3 in my_tuple\n",
    "\n",
    "# Display Result\n",
    "print(\"Tuple:\", my_tuple)\n",
    "print(\"Does 3 exist in the tuple?\", element_exists)"
   ]
  },
  {
   "cell_type": "code",
   "execution_count": 9,
   "id": "ecb17629-7c03-482b-969b-701e248a5f20",
   "metadata": {},
   "outputs": [
    {
     "name": "stdout",
     "output_type": "stream",
     "text": [
      "Tuple: (1, 2, 3, 4, 5)\n",
      "List: [1, 2, 3, 4, 5]\n"
     ]
    }
   ],
   "source": [
    "'''7. Convert a tuple to a list.'''\n",
    "\n",
    "#  The tuple (1, 2, 3, 4, 5) is assigned to the variable my_tuple\n",
    "my_tuple = (1, 2, 3, 4, 5)\n",
    "\n",
    "# Convert the tuple to a list\n",
    "my_list = list(my_tuple)\n",
    "\n",
    "# Display Result\n",
    "print(\"Tuple:\", my_tuple)\n",
    "print(\"List:\", my_list)"
   ]
  },
  {
   "cell_type": "code",
   "execution_count": 10,
   "id": "347bf7be-b878-4a46-92d0-23fbaedf92ea",
   "metadata": {},
   "outputs": [
    {
     "name": "stdout",
     "output_type": "stream",
     "text": [
      "List: [1, 2, 3, 4, 5]\n",
      "Tuple: (1, 2, 3, 4, 5)\n"
     ]
    }
   ],
   "source": [
    "'''8. Convert a list to a tuple.'''\n",
    "\n",
    "#  The list (1, 2, 3, 4, 5) is assigned to the variable my_list\n",
    "my_list = [1, 2, 3, 4, 5]\n",
    "\n",
    "# Convert the list to a tuple\n",
    "my_tuple = tuple(my_list)\n",
    "\n",
    "# Display Result\n",
    "print(\"List:\", my_list)\n",
    "print(\"Tuple:\", my_tuple)"
   ]
  },
  {
   "cell_type": "code",
   "execution_count": 11,
   "id": "700a4bab-368a-4885-af62-399bb863f253",
   "metadata": {},
   "outputs": [
    {
     "name": "stdout",
     "output_type": "stream",
     "text": [
      "Tuple: (1, 2, 3)\n",
      "Unpacked Variables: 1 2 3\n"
     ]
    }
   ],
   "source": [
    "'''9. Unpack the elements of a tuple into variables.'''\n",
    "\n",
    "#  The tuple (1, 2, 3) is assigned to the variable my_tuple\n",
    "my_tuple = (1, 2, 3)\n",
    "\n",
    "# Unpack the tuple into variables\n",
    "var1, var2, var3 = my_tuple\n",
    "\n",
    "print(\"Tuple:\", my_tuple)\n",
    "print(\"Unpacked Variables:\", var1, var2, var3)\n"
   ]
  },
  {
   "cell_type": "code",
   "execution_count": 12,
   "id": "5fd7594b-ec29-4d8d-be50-a7af46737d46",
   "metadata": {},
   "outputs": [
    {
     "name": "stdout",
     "output_type": "stream",
     "text": [
      "Tuple of Even Numbers: (2, 4, 6, 8, 10)\n"
     ]
    }
   ],
   "source": [
    "'''10. Create a tuple of even numbers from 1 to 10.'''\n",
    "\n",
    "# Create a tuple of even numbers from 1 to 10\n",
    "even_numbers_tuple = tuple(i for i in range(2, 11, 2))\n",
    "\n",
    "# Display Result\n",
    "print(\"Tuple of Even Numbers:\", even_numbers_tuple)\n",
    "\n"
   ]
  },
  {
   "cell_type": "code",
   "execution_count": 13,
   "id": "a1edace8-6218-45b7-a5b1-676b268e6fce",
   "metadata": {},
   "outputs": [
    {
     "name": "stdout",
     "output_type": "stream",
     "text": [
      "Tuple of Odd Numbers: (1, 3, 5, 7, 9)\n"
     ]
    }
   ],
   "source": [
    "'''11. Create a tuple of odd numbers from 1 to 10.'''\n",
    "\n",
    "# Create a tuple of odd numbers from 1 to 10\n",
    "odd_numbers_tuple = tuple(i for i in range(1, 11, 2))\n",
    "\n",
    "# Display Result\n",
    "print(\"Tuple of Odd Numbers:\", odd_numbers_tuple)\n",
    "\n",
    "\n"
   ]
  },
  {
   "cell_type": "code",
   "execution_count": 16,
   "id": "b8fbdeda-eb8a-4bc4-ab6d-9842eb735875",
   "metadata": {},
   "outputs": [
    {
     "name": "stdout",
     "output_type": "stream",
     "text": [
      "Tuple 1: (1, 2, 3)\n",
      "Tuple 2: (4, 5, 6)\n",
      "Concatenated Tuple: (1, 2, 3, 4, 5, 6)\n"
     ]
    }
   ],
   "source": [
    "'''12. Concatenate two tuples.'''\n",
    "# Declare Tuples\n",
    "tuple1 = (1, 2, 3)\n",
    "tuple2 = (4, 5, 6)\n",
    "\n",
    "# Concatenate two tuples\n",
    "concatenated_tuple = tuple1 + tuple2\n",
    "\n",
    "# Display Result\n",
    "print(\"Tuple 1:\", tuple1)\n",
    "print(\"Tuple 2:\", tuple2)\n",
    "print(\"Concatenated Tuple:\", concatenated_tuple)"
   ]
  },
  {
   "cell_type": "code",
   "execution_count": 17,
   "id": "c3a3c559-4efe-464f-bec1-bbf8653ddf77",
   "metadata": {},
   "outputs": [
    {
     "name": "stdout",
     "output_type": "stream",
     "text": [
      "Original Tuple: (1, 2, 3)\n",
      "Repeated Tuple: (1, 2, 3, 1, 2, 3, 1, 2, 3)\n"
     ]
    }
   ],
   "source": [
    "'''13. Repeat a tuple three times.'''\n",
    "\n",
    "# Declare Tupke\n",
    "original_tuple = (1, 2, 3)\n",
    "\n",
    "# Repeat the tuple three times\n",
    "repeated_tuple = original_tuple * 3\n",
    "\n",
    "# Display Result\n",
    "print(\"Original Tuple:\", original_tuple)\n",
    "print(\"Repeated Tuple:\", repeated_tuple)\n",
    "\n"
   ]
  },
  {
   "cell_type": "code",
   "execution_count": 18,
   "id": "72b818f8-7955-4e6f-a698-d230808e001f",
   "metadata": {},
   "outputs": [
    {
     "name": "stdout",
     "output_type": "stream",
     "text": [
      "Tuple: ()\n",
      "Is the tuple empty? True\n"
     ]
    }
   ],
   "source": [
    "'''14. Check if a tuple is empty.'''\n",
    "\n",
    "my_tuple = ()\n",
    "\n",
    "# Check if the tuple is empty\n",
    "is_empty = len(my_tuple) == 0\n",
    "\n",
    "# Display Result\n",
    "print(\"Tuple:\", my_tuple)\n",
    "print(\"Is the tuple empty?\", is_empty)"
   ]
  },
  {
   "cell_type": "code",
   "execution_count": 19,
   "id": "5a0fe95b-4377-4b29-9ad6-e11457b5a75b",
   "metadata": {},
   "outputs": [
    {
     "name": "stdout",
     "output_type": "stream",
     "text": [
      "Nested Tuple: ((1, 2, 3), ('a', 'b', 'c'), (True, False))\n"
     ]
    }
   ],
   "source": [
    "'''15. Create a nested tuple.'''\n",
    "\n",
    "nested_tuple = ((1, 2, 3), ('a', 'b', 'c'), (True, False))\n",
    "\n",
    "# Display Result\n",
    "print(\"Nested Tuple:\", nested_tuple)"
   ]
  },
  {
   "cell_type": "code",
   "execution_count": 20,
   "id": "b3341a3f-f836-495b-be47-a39d65f0f798",
   "metadata": {},
   "outputs": [
    {
     "name": "stdout",
     "output_type": "stream",
     "text": [
      "Nested Tuple: ((1, 2, 3), ('a', 'b', 'c'), (True, False))\n",
      "First Element: (1, 2, 3)\n"
     ]
    }
   ],
   "source": [
    "'''16. Access the first element of a nested tuple.'''\n",
    "\n",
    "nested_tuple = ((1, 2, 3), ('a', 'b', 'c'), (True, False))\n",
    "\n",
    "# Access the first element of the nested tuple\n",
    "first_element = nested_tuple[0]\n",
    "\n",
    "# Display Result\n",
    "print(\"Nested Tuple:\", nested_tuple)\n",
    "print(\"First Element:\", first_element)"
   ]
  },
  {
   "cell_type": "code",
   "execution_count": 22,
   "id": "5420c624-f523-4e4f-ba4e-8ff3386089f3",
   "metadata": {},
   "outputs": [
    {
     "name": "stdout",
     "output_type": "stream",
     "text": [
      "Single Element Tuple: 42\n"
     ]
    }
   ],
   "source": [
    "'''17. Create a tuple with a single element.'''\n",
    "\n",
    "single_element_tuple = (42)\n",
    "\n",
    "# Display Result\n",
    "print(\"Single Element Tuple:\", single_element_tuple)\n",
    "\n"
   ]
  },
  {
   "cell_type": "code",
   "execution_count": 23,
   "id": "d66242bf-4ff8-45e9-a155-5fe9c40cc78c",
   "metadata": {},
   "outputs": [
    {
     "name": "stdout",
     "output_type": "stream",
     "text": [
      "Tuple 1: (1, 2, 3)\n",
      "Tuple 2: (1, 2, 4)\n",
      "Are the tuples equal? False\n"
     ]
    }
   ],
   "source": [
    "'''18. Compare two tuples.'''\n",
    "\n",
    "tuple1 = (1, 2, 3)\n",
    "tuple2 = (1, 2, 4)\n",
    "\n",
    "# Compare two tuples\n",
    "result = tuple1 == tuple2\n",
    "\n",
    "# Display Result\n",
    "print(\"Tuple 1:\", tuple1)\n",
    "print(\"Tuple 2:\", tuple2)\n",
    "print(\"Are the tuples equal?\", result)"
   ]
  },
  {
   "cell_type": "code",
   "execution_count": 27,
   "id": "1d70051d-a9fb-4c9a-9f15-23a94bf1cfa0",
   "metadata": {},
   "outputs": [
    {
     "name": "stdout",
     "output_type": "stream",
     "text": [
      "Original Tuple: (1, 2, 3, 4, 5)\n"
     ]
    }
   ],
   "source": [
    "'''19. Delete a tuple.'''\n",
    "\n",
    "my_tuple = (1, 2, 3, 4, 5)\n",
    "\n",
    "# Display the tuple before deletion\n",
    "print(\"Original Tuple:\", my_tuple)\n",
    "\n",
    "# Delete the entire tuple\n",
    "del my_tuple\n",
    "\n",
    "# Attempting to print the tuple after deletion will raise an error\n",
    "# print(\"After Deletion:\", my_tuple)  # Uncommenting this line will result in an error"
   ]
  },
  {
   "cell_type": "code",
   "execution_count": 28,
   "id": "4261f32d-96ac-436c-a19f-df85f253964c",
   "metadata": {},
   "outputs": [
    {
     "name": "stdout",
     "output_type": "stream",
     "text": [
      "Original Tuple: (1, 2, 3, 4, 5)\n",
      "Subset Tuple: (2, 3, 4)\n"
     ]
    }
   ],
   "source": [
    "'''20. Slice a tuple.'''\n",
    "\n",
    "my_tuple = (1, 2, 3, 4, 5)\n",
    "\n",
    "# Slice the tuple to get a subset\n",
    "subset_tuple = my_tuple[1:4]\n",
    "\n",
    "# Display Result\n",
    "print(\"Original Tuple:\", my_tuple)\n",
    "print(\"Subset Tuple:\", subset_tuple)"
   ]
  },
  {
   "cell_type": "code",
   "execution_count": 29,
   "id": "b609479d-b610-4588-9325-540edc872b54",
   "metadata": {},
   "outputs": [
    {
     "name": "stdout",
     "output_type": "stream",
     "text": [
      "Tuple: (10, 5, 8, 12, 3)\n",
      "Maximum Value: 12\n"
     ]
    }
   ],
   "source": [
    "'''21. Find the maximum value in a tuple.'''\n",
    "\n",
    "my_tuple = (10, 5, 8, 12, 3)\n",
    "\n",
    "# Find the maximum value in the tuple\n",
    "max_value = max(my_tuple)\n",
    "\n",
    "# Display Result\n",
    "print(\"Tuple:\", my_tuple)\n",
    "print(\"Maximum Value:\", max_value)\n"
   ]
  },
  {
   "cell_type": "code",
   "execution_count": 30,
   "id": "c4f47d80-b8b8-4e7c-a1e5-aa1f0ce437a0",
   "metadata": {},
   "outputs": [
    {
     "name": "stdout",
     "output_type": "stream",
     "text": [
      "Tuple: (10, 5, 8, 12, 3)\n",
      "Minimum Value: 3\n"
     ]
    }
   ],
   "source": [
    "'''22. Find the minimum value in a tuple.'''\n",
    "\n",
    "my_tuple = (10, 5, 8, 12, 3)\n",
    "\n",
    "# Find the minimum value in the tuple\n",
    "min_value = min(my_tuple)\n",
    "\n",
    "# Display Result\n",
    "print(\"Tuple:\", my_tuple)\n",
    "print(\"Minimum Value:\", min_value)"
   ]
  },
  {
   "cell_type": "code",
   "execution_count": 32,
   "id": "18525365-feed-41fb-86fb-ced0790f4a77",
   "metadata": {},
   "outputs": [
    {
     "name": "stdout",
     "output_type": "stream",
     "text": [
      "String: hello\n",
      "Tuple of Characters: ('h', 'e', 'l', 'l', 'o')\n"
     ]
    }
   ],
   "source": [
    "'''23. Convert a string to a tuple of characters.'''\n",
    "\n",
    "my_string = \"hello\"\n",
    "\n",
    "# Convert the string to a tuple of characters\n",
    "tuple_of_characters = tuple(my_string)\n",
    "\n",
    "# Display Result\n",
    "print(\"String:\", my_string)\n",
    "print(\"Tuple of Characters:\", tuple_of_characters)"
   ]
  },
  {
   "cell_type": "code",
   "execution_count": 35,
   "id": "6a2686c1-86f0-4fb6-a598-d1572757f5ec",
   "metadata": {},
   "outputs": [
    {
     "name": "stdout",
     "output_type": "stream",
     "text": [
      "Tuple of Characters: ('H', 'e', 'l', 'l', 'o', ' ', 'K', 'E', 'T', 'A', 'N')\n",
      "String from Tuple: Hello KETAN\n"
     ]
    }
   ],
   "source": [
    "'''24. Convert a tuple of characters to a string.'''\n",
    "\n",
    "tuple_of_characters = ('H', 'e', 'l', 'l', 'o', ' ', 'K', 'E', 'T', 'A', 'N')\n",
    "\n",
    "# Convert the tuple of characters to a string\n",
    "string_from_tuple = ''.join(tuple_of_characters)\n",
    "\n",
    "# Display Result\n",
    "print(\"Tuple of Characters:\", tuple_of_characters)\n",
    "print(\"String from Tuple:\", string_from_tuple)"
   ]
  },
  {
   "cell_type": "code",
   "execution_count": 36,
   "id": "cbf1f726-347e-4d88-abd7-e942c7f558df",
   "metadata": {},
   "outputs": [
    {
     "name": "stdout",
     "output_type": "stream",
     "text": [
      "Mixed Tuple: (1, 'hello', 3.14, True, [1, 2, 3])\n"
     ]
    }
   ],
   "source": [
    "'''25. Create a tuple from multiple data types.'''\n",
    "\n",
    "# Declare Tuple \n",
    "mixed_tuple = (1, 'hello', 3.14, True, [1, 2, 3])\n",
    "\n",
    "# Display Result\n",
    "print(\"Mixed Tuple:\", mixed_tuple)"
   ]
  },
  {
   "cell_type": "code",
   "execution_count": 2,
   "id": "3301070d-bbc8-46e1-8a3c-00d946dcac08",
   "metadata": {},
   "outputs": [
    {
     "name": "stdout",
     "output_type": "stream",
     "text": [
      "Tuple 1: (1, 2, 3)\n",
      "Tuple 2: (1, 2, 3)\n",
      "Are the tuples identical? True\n"
     ]
    }
   ],
   "source": [
    "'''26. Check if two tuples are identical.'''\n",
    "\n",
    "# Declare Tuples\n",
    "tuple1 = (1, 2, 3)\n",
    "tuple2 = (1, 2, 3)\n",
    "\n",
    "# Check if the two tuples are identical\n",
    "are_identical = tuple1 == tuple2\n",
    "\n",
    "# Display Result\n",
    "print(\"Tuple 1:\", tuple1)\n",
    "print(\"Tuple 2:\", tuple2)\n",
    "print(\"Are the tuples identical?\", are_identical)"
   ]
  },
  {
   "cell_type": "code",
   "execution_count": 3,
   "id": "13247abe-42c0-4d86-adfc-fb66d688468f",
   "metadata": {},
   "outputs": [
    {
     "name": "stdout",
     "output_type": "stream",
     "text": [
      "Original Tuple: (3, 1, 4, 1, 5, 9, 2, 6, 5, 3, 5)\n",
      "Sorted Tuple: (1, 1, 2, 3, 3, 4, 5, 5, 5, 6, 9)\n"
     ]
    }
   ],
   "source": [
    "'''27. Sort the elements of a tuple.'''\n",
    "\n",
    "# Declare Tuple\n",
    "my_tuple = (3, 1, 4, 1, 5, 9, 2, 6, 5, 3, 5)\n",
    "\n",
    "# Convert the tuple to a list, sort the list, and convert it back to a tuple\n",
    "sorted_tuple = tuple(sorted(list(my_tuple)))\n",
    "\n",
    "# Display Result\n",
    "print(\"Original Tuple:\", my_tuple)\n",
    "print(\"Sorted Tuple:\", sorted_tuple)"
   ]
  },
  {
   "cell_type": "code",
   "execution_count": 4,
   "id": "67964cb0-c957-4ad9-ad10-890d8a63e61a",
   "metadata": {},
   "outputs": [
    {
     "name": "stdout",
     "output_type": "stream",
     "text": [
      "Tuple of Integers: (1, 2, 3, 4, 5)\n",
      "Tuple of Strings: ('1', '2', '3', '4', '5')\n"
     ]
    }
   ],
   "source": [
    "'''28. Convert a tuple of integers to a tuple of strings.'''\n",
    "\n",
    "# Declare Tuple\n",
    "tuple_of_integers = (1, 2, 3, 4, 5)\n",
    "\n",
    "# Convert the tuple of integers to a tuple of strings\n",
    "tuple_of_strings = tuple(str(i) for i in tuple_of_integers)\n",
    "\n",
    "# Display Result\n",
    "print(\"Tuple of Integers:\", tuple_of_integers)\n",
    "print(\"Tuple of Strings:\", tuple_of_strings)"
   ]
  },
  {
   "cell_type": "code",
   "execution_count": 6,
   "id": "5830315d-7b96-4336-b4d5-4783f1b26825",
   "metadata": {},
   "outputs": [
    {
     "name": "stdout",
     "output_type": "stream",
     "text": [
      "Tuple of Strings: ('1', '2', '3', '4', '5')\n",
      "Tuple of Integers: (1, 2, 3, 4, 5)\n"
     ]
    }
   ],
   "source": [
    "'''29. Convert a tuple of strings to a tuple of integers.'''\n",
    "\n",
    "# Declare Tuple\n",
    "tuple_of_strings = ('1', '2', '3', '4', '5')\n",
    "\n",
    "# Convert the tuple of strings to a tuple of integers\n",
    "tuple_of_integers = tuple(int(s) for s in tuple_of_strings)\n",
    "\n",
    "# Display Result\n",
    "print(\"Tuple of Strings:\", tuple_of_strings)\n",
    "print(\"Tuple of Integers:\", tuple_of_integers)"
   ]
  },
  {
   "cell_type": "code",
   "execution_count": 7,
   "id": "ab0c9436-55a2-47ea-adcc-8191a5e387d7",
   "metadata": {},
   "outputs": [
    {
     "name": "stdout",
     "output_type": "stream",
     "text": [
      "Tuple 1: (1, 2, 3)\n",
      "Tuple 2: ('a', 'b', 'c')\n",
      "Merged Tuple: (1, 2, 3, 'a', 'b', 'c')\n"
     ]
    }
   ],
   "source": [
    "'''30. Merge two tuples.'''\n",
    "\n",
    "# Declare Tuple\n",
    "tuple1 = (1, 2, 3)\n",
    "tuple2 = ('a', 'b', 'c')\n",
    "\n",
    "# Merge two tuples\n",
    "merged_tuple = tuple1 + tuple2\n",
    "\n",
    "# Display Result\n",
    "print(\"Tuple 1:\", tuple1)\n",
    "print(\"Tuple 2:\", tuple2)\n",
    "print(\"Merged Tuple:\", merged_tuple)"
   ]
  },
  {
   "cell_type": "code",
   "execution_count": 8,
   "id": "9f91fb9e-6ea9-4a78-9698-04766938a4f9",
   "metadata": {},
   "outputs": [
    {
     "name": "stdout",
     "output_type": "stream",
     "text": [
      "Nested Tuple: ((1, 2, 3), ('a', 'b', 'c'), (True, False))\n",
      "Flattened Tuple: (1, 2, 3, 'a', 'b', 'c', True, False)\n"
     ]
    }
   ],
   "source": [
    "'''31. Flatten a nested tuple.'''\n",
    "\n",
    "# Using library itertools.chain\n",
    "from itertools import chain\n",
    "\n",
    "nested_tuple = ((1, 2, 3), ('a', 'b', 'c'), (True, False))\n",
    "\n",
    "# Flatten the nested tuple\n",
    "flattened_tuple = tuple(chain(*nested_tuple))\n",
    "\n",
    "print(\"Nested Tuple:\", nested_tuple)\n",
    "print(\"Flattened Tuple:\", flattened_tuple)"
   ]
  },
  {
   "cell_type": "code",
   "execution_count": 10,
   "id": "f50955e0-5e97-4a87-8a91-f59a6e13acf4",
   "metadata": {},
   "outputs": [
    {
     "name": "stdout",
     "output_type": "stream",
     "text": [
      "Tuple of the First 5 Prime Numbers: (2, 3, 5, 7, 11)\n"
     ]
    }
   ],
   "source": [
    "'''32. Create a tuple of the first 5 prime numbers.'''\n",
    "\n",
    "# This generate_primes function generates prime numbers until it reaches the specified count n\n",
    "def generate_primes(n):\n",
    "    primes = []\n",
    "    num = 2\n",
    "\n",
    "# Using while loop\n",
    "    while len(primes) < n:\n",
    "        for p in primes:\n",
    "            if num % p == 0:\n",
    "                break\n",
    "        else:\n",
    "            primes.append(num)\n",
    "        num += 1\n",
    "\n",
    "    return tuple(primes)\n",
    "\n",
    "# Calls the function with an argument of 5, generating the first 5 prime numbers.\n",
    "first_5_primes = generate_primes(5)\n",
    "\n",
    "# Display Result\n",
    "print(\"Tuple of the First 5 Prime Numbers:\", first_5_primes)\n",
    "\n"
   ]
  },
  {
   "cell_type": "code",
   "execution_count": 11,
   "id": "0054a976-aff9-45a8-89ad-7bd559e358a2",
   "metadata": {},
   "outputs": [
    {
     "name": "stdout",
     "output_type": "stream",
     "text": [
      "Is Palindrome Tuple a palindrome? True\n",
      "Is Non-Palindrome Tuple a palindrome? False\n"
     ]
    }
   ],
   "source": [
    "'''33. Check if a tuple is a palindrome.'''\n",
    "\n",
    "# The is_palindrome function checks if a tuple is a palindrome by comparing it with its reverse using the == operator and slicing with [::-1].\n",
    "def is_palindrome(t):\n",
    "    return t == t[::-1]\n",
    "\n",
    "# Example usage\n",
    "palindrome_tuple = (1, 2, 3, 2, 1)\n",
    "non_palindrome_tuple = (1, 2, 3, 4, 5)\n",
    "\n",
    "# Display Result\n",
    "print(\"Is Palindrome Tuple a palindrome?\", is_palindrome(palindrome_tuple))\n",
    "print(\"Is Non-Palindrome Tuple a palindrome?\", is_palindrome(non_palindrome_tuple))\n",
    "\n"
   ]
  },
  {
   "cell_type": "code",
   "execution_count": 12,
   "id": "445ef0b6-dbec-43e5-bfce-8d9cb583b997",
   "metadata": {},
   "outputs": [
    {
     "name": "stdout",
     "output_type": "stream",
     "text": [
      "Tuple of Squares: (1, 4, 9, 16, 25)\n"
     ]
    }
   ],
   "source": [
    "'''34. Create a tuple of squares of numbers from 1 to 5.'''\n",
    "\n",
    "# x**2 calculates the square of each number x in the range from 1 to 5. The tuple(...) converts the result into a tuple.\n",
    "squares_tuple = tuple(x**2 for x in range(1, 6))\n",
    "\n",
    "# Display Result\n",
    "print(\"Tuple of Squares:\", squares_tuple)"
   ]
  },
  {
   "cell_type": "code",
   "execution_count": 14,
   "id": "434643f7-dedb-4d6a-8a3d-0b0fb37f9053",
   "metadata": {},
   "outputs": [
    {
     "name": "stdout",
     "output_type": "stream",
     "text": [
      "Original Tuple: (1, 2, 3, 4, 5, 6, 7, 8, 9, 10)\n",
      "Filtered Tuple (Without Even Numbers): (1, 3, 5, 7, 9)\n"
     ]
    }
   ],
   "source": [
    "'''35. Filter out all even numbers from a tuple.'''\n",
    "\n",
    "# Declare Tuple\n",
    "original_tuple = (1, 2, 3, 4, 5, 6, 7, 8, 9, 10)\n",
    "\n",
    "# Filter out even numbers from the original tuple\n",
    "filtered_tuple = tuple(x for x in original_tuple if x % 2 != 0)\n",
    "\n",
    "# Display Result\n",
    "print(\"Original Tuple:\", original_tuple)\n",
    "print(\"Filtered Tuple (Without Even Numbers):\", filtered_tuple)"
   ]
  },
  {
   "cell_type": "code",
   "execution_count": 15,
   "id": "23cea229-dd05-480a-b68b-a62babbba6ad",
   "metadata": {},
   "outputs": [
    {
     "name": "stdout",
     "output_type": "stream",
     "text": [
      "Original Tuple: (1, 2, 3, 4, 5)\n",
      "Doubled Tuple: (2, 4, 6, 8, 10)\n"
     ]
    }
   ],
   "source": [
    "'''36. Multiply all elements in a tuple by 2.'''\n",
    "\n",
    "# Declare Tuple\n",
    "original_tuple = (1, 2, 3, 4, 5)\n",
    "\n",
    "# Multiply all elements by 2\n",
    "doubled_tuple = tuple(x * 2 for x in original_tuple)\n",
    "\n",
    "# Display Result\n",
    "print(\"Original Tuple:\", original_tuple)\n",
    "print(\"Doubled Tuple:\", doubled_tuple)"
   ]
  },
  {
   "cell_type": "code",
   "execution_count": 17,
   "id": "42cd6d53-fc91-49c5-b628-f8313cbd46aa",
   "metadata": {},
   "outputs": [
    {
     "name": "stdout",
     "output_type": "stream",
     "text": [
      "Random Tuple: (66, 78, 44, 1, 99)\n"
     ]
    }
   ],
   "source": [
    "'''37. Create a tuple of random numbers.'''\n",
    "\n",
    "import random\n",
    "\n",
    "# Create a tuple of 5 random numbers between 1 and 100\n",
    "random_tuple = tuple(random.randint(1, 100) for _ in range(5))\n",
    "\n",
    "# Display Result\n",
    "print(\"Random Tuple:\", random_tuple)"
   ]
  },
  {
   "cell_type": "code",
   "execution_count": 18,
   "id": "e0c7138a-86c1-4013-92f6-c082f30fe19d",
   "metadata": {},
   "outputs": [
    {
     "name": "stdout",
     "output_type": "stream",
     "text": [
      "Is Sorted Tuple sorted? True\n",
      "Is Unsorted Tuple sorted? False\n"
     ]
    }
   ],
   "source": [
    "'''38. Check if a tuple is sorted.'''\n",
    "\n",
    "# The is_sorted function takes a tuple t, sorts it using sorted(t), and then compares the sorted tuple with the original tuple using the equality operator (==).\n",
    "def is_sorted(t):\n",
    "    return tuple(sorted(t)) == t\n",
    "\n",
    "# Example usage\n",
    "sorted_tuple = (1, 2, 3, 4, 5)\n",
    "unsorted_tuple = (5, 3, 1, 4, 2)\n",
    "\n",
    "# Display Result\n",
    "print(\"Is Sorted Tuple sorted?\", is_sorted(sorted_tuple))\n",
    "print(\"Is Unsorted Tuple sorted?\", is_sorted(unsorted_tuple))"
   ]
  },
  {
   "cell_type": "code",
   "execution_count": 19,
   "id": "6167e7ab-4fa3-413b-8b13-d664e9cb7eb7",
   "metadata": {},
   "outputs": [
    {
     "name": "stdout",
     "output_type": "stream",
     "text": [
      "Original Tuple: (1, 2, 3, 4, 5)\n",
      "Rotated Tuple to the Left by 2 Positions: (3, 4, 5, 1, 2)\n"
     ]
    }
   ],
   "source": [
    "'''39. Rotate a tuple to the left by `n` positions.'''\n",
    "\n",
    "def rotate_left(t, n):\n",
    "    n = n % len(t)  # Ensure n is within the length of the tuple\n",
    "    return t[n:] + t[:n]\n",
    "\n",
    "# Example usage\n",
    "original_tuple = (1, 2, 3, 4, 5)\n",
    "rotation_positions = 2\n",
    "\n",
    "rotated_tuple = rotate_left(original_tuple, rotation_positions)\n",
    "\n",
    "# Display Result\n",
    "print(f\"Original Tuple: {original_tuple}\")\n",
    "print(f\"Rotated Tuple to the Left by {rotation_positions} Positions: {rotated_tuple}\")\n",
    "\n"
   ]
  },
  {
   "cell_type": "code",
   "execution_count": 20,
   "id": "09a657da-6371-4565-b0fb-6c491f492c8f",
   "metadata": {},
   "outputs": [
    {
     "name": "stdout",
     "output_type": "stream",
     "text": [
      "Original Tuple: (1, 2, 3, 4, 5)\n",
      "Rotated Tuple to the Right by 2 Positions: (4, 5, 1, 2, 3)\n"
     ]
    }
   ],
   "source": [
    "'''40. Rotate a tuple to the right by `n` positions.'''\n",
    "\n",
    "def rotate_right(t, n):\n",
    "    n = n % len(t)  # Ensure n is within the length of the tuple\n",
    "    return t[-n:] + t[:-n]\n",
    "\n",
    "# Example usage\n",
    "original_tuple = (1, 2, 3, 4, 5)\n",
    "rotation_positions = 2\n",
    "\n",
    "rotated_tuple = rotate_right(original_tuple, rotation_positions)\n",
    "\n",
    "# Display Result\n",
    "print(f\"Original Tuple: {original_tuple}\")\n",
    "print(f\"Rotated Tuple to the Right by {rotation_positions} Positions: {rotated_tuple}\")"
   ]
  },
  {
   "cell_type": "code",
   "execution_count": 21,
   "id": "8edf36c6-acc7-4cf9-8fa6-329ad96ced6a",
   "metadata": {},
   "outputs": [
    {
     "name": "stdout",
     "output_type": "stream",
     "text": [
      "Tuple of the First 5 Fibonacci Numbers: (0, 1, 1, 2, 3)\n"
     ]
    }
   ],
   "source": [
    "'''41. Create a tuple of the first 5 Fibonacci numbers.'''\n",
    "\n",
    "def generate_fibonacci(n):\n",
    "    fibonacci_numbers = [0, 1]\n",
    "\n",
    "    while len(fibonacci_numbers) < n:\n",
    "        next_fibonacci = fibonacci_numbers[-1] + fibonacci_numbers[-2]\n",
    "        fibonacci_numbers.append(next_fibonacci)\n",
    "\n",
    "    return tuple(fibonacci_numbers)\n",
    "\n",
    "# Example usage\n",
    "first_5_fibonacci = generate_fibonacci(5)\n",
    "\n",
    "# Display Result\n",
    "print(\"Tuple of the First 5 Fibonacci Numbers:\", first_5_fibonacci)"
   ]
  },
  {
   "cell_type": "code",
   "execution_count": 22,
   "id": "5dc46599-b59d-437d-bbf1-8b8354d55b6a",
   "metadata": {},
   "outputs": [
    {
     "name": "stdin",
     "output_type": "stream",
     "text": [
      "Enter a comma-separated list of values:  1,2,3,4,5\n"
     ]
    },
    {
     "name": "stdout",
     "output_type": "stream",
     "text": [
      "User Input Tuple: ('1', '2', '3', '4', '5')\n"
     ]
    }
   ],
   "source": [
    "'''42. Create a tuple from user input.'''\n",
    "\n",
    "# Get a string of comma-separated values from the user\n",
    "user_input_str = input(\"Enter a comma-separated list of values: \")\n",
    "\n",
    "# Split the input string into a list using commas as the delimiter\n",
    "values_list = user_input_str.split(',')\n",
    "\n",
    "# Convert the list of strings to a tuple of values\n",
    "user_tuple = tuple(values_list)\n",
    "\n",
    "print(\"User Input Tuple:\", user_tuple)"
   ]
  },
  {
   "cell_type": "code",
   "execution_count": 23,
   "id": "0c6dc91f-b20d-4142-a058-57e359471bd3",
   "metadata": {},
   "outputs": [
    {
     "name": "stdout",
     "output_type": "stream",
     "text": [
      "Original Tuple: (1, 2, 3, 4, 5)\n",
      "Swapped Tuple (Elements at indices 1 and 3 swapped): (1, 4, 3, 2, 5)\n"
     ]
    }
   ],
   "source": [
    "'''43. Swap two elements in a tuple.'''\n",
    "\n",
    "def swap_elements(t, i, j):\n",
    "    # Convert the tuple to a list\n",
    "    temp_list = list(t)\n",
    "    \n",
    "    # Swap the elements at indices i and j\n",
    "    temp_list[i], temp_list[j] = temp_list[j], temp_list[i]\n",
    "    \n",
    "    # Convert the list back to a tuple\n",
    "    swapped_tuple = tuple(temp_list)\n",
    "    \n",
    "    return swapped_tuple\n",
    "\n",
    "# Example usage\n",
    "original_tuple = (1, 2, 3, 4, 5)\n",
    "index1 = 1\n",
    "index2 = 3\n",
    "\n",
    "swapped_tuple = swap_elements(original_tuple, index1, index2)\n",
    "\n",
    "# Display Result\n",
    "print(\"Original Tuple:\", original_tuple)\n",
    "print(f\"Swapped Tuple (Elements at indices {index1} and {index2} swapped):\", swapped_tuple)\n",
    "\n"
   ]
  },
  {
   "cell_type": "code",
   "execution_count": 24,
   "id": "3a3c246c-0db1-4d2c-834f-80f1328f258b",
   "metadata": {},
   "outputs": [
    {
     "name": "stdout",
     "output_type": "stream",
     "text": [
      "Original Tuple: (1, 2, 3, 4, 5)\n",
      "Reversed Tuple: (5, 4, 3, 2, 1)\n"
     ]
    }
   ],
   "source": [
    "'''44. Reverse the elements of a tuple.'''\n",
    "\n",
    "def reverse_tuple(t):\n",
    "    return t[::-1]\n",
    "\n",
    "# Example usage\n",
    "original_tuple = (1, 2, 3, 4, 5)\n",
    "\n",
    "reversed_tuple = reverse_tuple(original_tuple)\n",
    "\n",
    "# Display Result\n",
    "print(\"Original Tuple:\", original_tuple)\n",
    "print(\"Reversed Tuple:\", reversed_tuple)"
   ]
  },
  {
   "cell_type": "code",
   "execution_count": 25,
   "id": "a6d779d4-98d7-4707-9737-498a3a30b3a3",
   "metadata": {},
   "outputs": [
    {
     "name": "stdout",
     "output_type": "stream",
     "text": [
      "Tuple of the First 5 Powers of 2: (1, 2, 4, 8, 16)\n"
     ]
    }
   ],
   "source": [
    "'''45. Create a tuple of the first `n` powers of 2.'''\n",
    "\n",
    "def powers_of_2(n):\n",
    "    return tuple(pow(2, i) for i in range(n))\n",
    "\n",
    "# Example usage\n",
    "n = 5\n",
    "\n",
    "powers_tuple = powers_of_2(n)\n",
    "\n",
    "# Display Result\n",
    "print(f\"Tuple of the First {n} Powers of 2:\", powers_tuple)\n",
    "\n"
   ]
  },
  {
   "cell_type": "code",
   "execution_count": 26,
   "id": "7189c72b-33dc-49e6-91e2-9a04092fbacf",
   "metadata": {},
   "outputs": [
    {
     "name": "stdout",
     "output_type": "stream",
     "text": [
      "Tuple of Strings: ('apple', 'banana', 'kiwi', 'strawberry', 'blueberry')\n",
      "Longest String: strawberry\n"
     ]
    }
   ],
   "source": [
    "'''46. Find the longest string in a tuple of strings.'''\n",
    "\n",
    "def longest_string(t):\n",
    "    return max(t, key=len)\n",
    "\n",
    "# Example usage\n",
    "string_tuple = (\"apple\", \"banana\", \"kiwi\", \"strawberry\", \"blueberry\")\n",
    "\n",
    "longest_str = longest_string(string_tuple)\n",
    "\n",
    "# Display Result\n",
    "print(\"Tuple of Strings:\", string_tuple)\n",
    "print(\"Longest String:\", longest_str)"
   ]
  },
  {
   "cell_type": "code",
   "execution_count": 28,
   "id": "242b86c9-d826-4da1-87ec-0ac430b60618",
   "metadata": {},
   "outputs": [
    {
     "name": "stdout",
     "output_type": "stream",
     "text": [
      "Shortest string: kiwi\n"
     ]
    }
   ],
   "source": [
    "'''47. Find the shortest string in a tuple of strings.'''\n",
    "\n",
    "def find_shortest_string(strings):\n",
    "    if not strings:\n",
    "        return None  # Return None for an empty tuple\n",
    "\n",
    "    shortest_string = min(strings, key=len)\n",
    "    return shortest_string\n",
    "\n",
    "# Example usage:\n",
    "my_tuple = (\"apple\", \"banana\", \"kiwi\", \"orange\", \"grape\")\n",
    "shortest = find_shortest_string(my_tuple)\n",
    "\n",
    "# Display Result\n",
    "print(\"Shortest string:\", shortest)"
   ]
  },
  {
   "cell_type": "code",
   "execution_count": 29,
   "id": "1913d719-3277-4796-a635-94264814c0b6",
   "metadata": {},
   "outputs": [
    {
     "name": "stdout",
     "output_type": "stream",
     "text": [
      "First 5 triangular numbers: (1, 3, 6, 10, 15)\n"
     ]
    }
   ],
   "source": [
    "'''48. Create a tuple of the first `n` triangular numbers.'''\n",
    "\n",
    "def generate_triangular_numbers(n):\n",
    "    triangular_numbers = [i * (i + 1) // 2 for i in range(1, n + 1)]\n",
    "    return tuple(triangular_numbers)\n",
    "\n",
    "# Example usage:\n",
    "n = 5\n",
    "triangular_tuple = generate_triangular_numbers(n)\n",
    "\n",
    "# Display Result\n",
    "print(\"First\", n, \"triangular numbers:\", triangular_tuple)"
   ]
  },
  {
   "cell_type": "code",
   "execution_count": 31,
   "id": "2f6c8d4d-bf73-4567-87d4-3efe453d3617",
   "metadata": {},
   "outputs": [
    {
     "name": "stdout",
     "output_type": "stream",
     "text": [
      "Tuple2 is a subsequence of Tuple1.\n"
     ]
    }
   ],
   "source": [
    "'''49. Check if a tuple contains another tuple as a subsequence.'''\n",
    "\n",
    "def is_subsequence(sub, full):\n",
    "    sub_len = len(sub)\n",
    "    full_len = len(full)\n",
    "\n",
    "    for i in range(full_len - sub_len + 1):\n",
    "        if full[i:i + sub_len] == sub:\n",
    "            return True\n",
    "\n",
    "    return False\n",
    "\n",
    "# Example usage:\n",
    "tuple1 = (1, 2, 3, 4, 5, 6, 7)\n",
    "tuple2 = (3, 4, 5)\n",
    "\n",
    "result = is_subsequence(tuple2, tuple1)\n",
    "\n",
    "# Display Result\n",
    "if result:\n",
    "    print(\"Tuple2 is a subsequence of Tuple1.\")\n",
    "else:\n",
    "    print(\"Tuple2 is not a subsequence of Tuple1.\")"
   ]
  },
  {
   "cell_type": "code",
   "execution_count": 32,
   "id": "dd41fa53-8fbf-4ecd-ab49-2a3df9552baa",
   "metadata": {},
   "outputs": [
    {
     "name": "stdout",
     "output_type": "stream",
     "text": [
      "Alternating tuple: (0, 1, 0, 1, 0, 1, 0, 1)\n"
     ]
    }
   ],
   "source": [
    "'''50. Create a tuple of alternating 1s and 0s of length `n`.'''\n",
    "\n",
    "def create_alternating_tuple(n):\n",
    "    alternating_tuple = tuple(i % 2 for i in range(n))\n",
    "    return alternating_tuple\n",
    "\n",
    "# Example usage:\n",
    "n = 8\n",
    "alternating_tuple = create_alternating_tuple(n)\n",
    "\n",
    "# Display Result\n",
    "print(\"Alternating tuple:\", alternating_tuple)"
   ]
  },
  {
   "cell_type": "raw",
   "id": "1690e3fb-fe1b-42af-b38e-dc5a62b2995d",
   "metadata": {},
   "source": [
    ">PART 4 : TOPIC : SET Based Practice Problem "
   ]
  },
  {
   "cell_type": "code",
   "execution_count": 35,
   "id": "07c7bb5b-5b71-4748-b7bd-49c6f689ddb7",
   "metadata": {},
   "outputs": [
    {
     "name": "stdout",
     "output_type": "stream",
     "text": [
      "Set: {1, 2, 3, 4, 5}\n"
     ]
    }
   ],
   "source": [
    "'''1. Create a set with integers from 1 to 5.'''\n",
    "\n",
    "# Declare set with integers\n",
    "my_set = {1, 2, 3, 4, 5}\n",
    "# OR\n",
    "# my_set = set([1, 2, 3, 4, 5])\n",
    "\n",
    "# Display Result\n",
    "print(\"Set:\", my_set)"
   ]
  },
  {
   "cell_type": "code",
   "execution_count": 36,
   "id": "5f979d71-d0b3-4100-bf59-d9299f4a7e66",
   "metadata": {},
   "outputs": [
    {
     "name": "stdout",
     "output_type": "stream",
     "text": [
      "Updated Set: {1, 2, 3, 4, 5, 6}\n"
     ]
    }
   ],
   "source": [
    "'''2. Add an element to a set.'''\n",
    "\n",
    "# Declare set with integers\n",
    "my_set = {1, 2, 3, 4, 5}\n",
    "\n",
    "# Adding an element to the set\n",
    "my_set.add(6)\n",
    "\n",
    "# Display Result\n",
    "print(\"Updated Set:\", my_set)"
   ]
  },
  {
   "cell_type": "code",
   "execution_count": 37,
   "id": "67807ef2-c6c5-4c88-af2f-f8915eb43a13",
   "metadata": {},
   "outputs": [
    {
     "name": "stdout",
     "output_type": "stream",
     "text": [
      "Updated Set: {1, 2, 4, 5}\n"
     ]
    }
   ],
   "source": [
    "'''3. Remove an element from a set.'''\n",
    "\n",
    "# Declare set with integers\n",
    "my_set = {1, 2, 3, 4, 5}\n",
    "\n",
    "# Removing an element from the set\n",
    "my_set.remove(3)\n",
    "\n",
    "# Display Result\n",
    "print(\"Updated Set:\", my_set)"
   ]
  },
  {
   "cell_type": "code",
   "execution_count": 38,
   "id": "10073aa4-e925-4f44-a034-e1b573968519",
   "metadata": {},
   "outputs": [
    {
     "name": "stdout",
     "output_type": "stream",
     "text": [
      "3 exists in the set.\n"
     ]
    }
   ],
   "source": [
    "'''4. Check if an element exists in a set.'''\n",
    "\n",
    "# Declare set with integers\n",
    "my_set = {1, 2, 3, 4, 5}\n",
    "\n",
    "# Check if an element exists in the set using __contains__\n",
    "element_to_check = 3\n",
    "\n",
    "# Display Result\n",
    "if my_set.__contains__(element_to_check):\n",
    "    print(f\"{element_to_check} exists in the set.\")\n",
    "else:\n",
    "    print(f\"{element_to_check} does not exist in the set.\")"
   ]
  },
  {
   "cell_type": "code",
   "execution_count": 39,
   "id": "230b3907-342c-4d3e-9a61-322f4b23fc0e",
   "metadata": {},
   "outputs": [
    {
     "name": "stdout",
     "output_type": "stream",
     "text": [
      "Length of the set: 5\n"
     ]
    }
   ],
   "source": [
    "'''5. Find the length of a set without using the `len()` function.'''\n",
    "\n",
    "def find_set_length(input_set):\n",
    "    length = 0\n",
    "    for _ in input_set:\n",
    "        length += 1\n",
    "    return length\n",
    "\n",
    "# Example usage:\n",
    "my_set = {1, 2, 3, 4, 5}\n",
    "set_length = find_set_length(my_set)\n",
    "\n",
    "# Display Result\n",
    "print(\"Length of the set:\", set_length)"
   ]
  },
  {
   "cell_type": "code",
   "execution_count": 40,
   "id": "f0128913-8dda-412b-99cc-f8780464e8de",
   "metadata": {},
   "outputs": [
    {
     "name": "stdout",
     "output_type": "stream",
     "text": [
      "Set after clearing: set()\n"
     ]
    }
   ],
   "source": [
    "'''6. Clear all elements from a set.'''\n",
    "\n",
    "# Display Result\n",
    "my_set = {1, 2, 3, 4, 5}\n",
    "\n",
    "# Clear all elements from the set\n",
    "my_set.clear()\n",
    "\n",
    "# Display Result\n",
    "print(\"Set after clearing:\", my_set)"
   ]
  },
  {
   "cell_type": "code",
   "execution_count": 41,
   "id": "c344aae3-4602-4da1-ab0f-1efd8ee9f11a",
   "metadata": {},
   "outputs": [
    {
     "name": "stdout",
     "output_type": "stream",
     "text": [
      "Set of even numbers: {2, 4, 6, 8, 10}\n"
     ]
    }
   ],
   "source": [
    "'''7. Create a set of even numbers from 1 to 10.'''\n",
    "\n",
    "# Generates a set containing even numbers from 1 to 10. The condition if x % 2 == 0 filters out odd numbers, leaving only the even ones\n",
    "even_numbers_set = {x for x in range(1, 11) if x % 2 == 0}\n",
    "\n",
    "# Display Result\n",
    "print(\"Set of even numbers:\", even_numbers_set)"
   ]
  },
  {
   "cell_type": "code",
   "execution_count": 42,
   "id": "eb054e04-0697-4f5e-b2a9-1c5fee1f2df1",
   "metadata": {},
   "outputs": [
    {
     "name": "stdout",
     "output_type": "stream",
     "text": [
      "Set of odd numbers: {1, 3, 5, 7, 9}\n"
     ]
    }
   ],
   "source": [
    "'''8. Create a set of odd numbers from 1 to 10.'''\n",
    "\n",
    "# generates a set containing odd numbers from 1 to 10. The condition if x % 2 != 0 filters out even numbers, leaving only the odd ones\n",
    "odd_numbers_set = {x for x in range(1, 11) if x % 2 != 0}\n",
    "\n",
    "# Display Result\n",
    "print(\"Set of odd numbers:\", odd_numbers_set)"
   ]
  },
  {
   "cell_type": "code",
   "execution_count": 43,
   "id": "86c6179c-21a2-40e6-b576-146cc5a0d54b",
   "metadata": {},
   "outputs": [
    {
     "name": "stdout",
     "output_type": "stream",
     "text": [
      "Union using union(): {1, 2, 3, 4, 5, 6, 7, 8}\n",
      "Union using | operator: {1, 2, 3, 4, 5, 6, 7, 8}\n"
     ]
    }
   ],
   "source": [
    "'''9. Find the union of two sets.'''\n",
    "\n",
    "# Declare Sets\n",
    "set1 = {1, 2, 3, 4, 5}\n",
    "set2 = {4, 5, 6, 7, 8}\n",
    "\n",
    "# Using the union() method\n",
    "union_result_method = set1.union(set2)\n",
    "\n",
    "# Using the | operator\n",
    "union_result_operator = set1 | set2\n",
    "\n",
    "# Display Result\n",
    "print(\"Union using union():\", union_result_method)\n",
    "print(\"Union using | operator:\", union_result_operator)"
   ]
  },
  {
   "cell_type": "code",
   "execution_count": 44,
   "id": "c8c46e65-a80f-42dd-a4c0-d47dbde50745",
   "metadata": {},
   "outputs": [
    {
     "name": "stdout",
     "output_type": "stream",
     "text": [
      "Intersection using intersection(): {4, 5}\n",
      "Intersection using & operator: {4, 5}\n"
     ]
    }
   ],
   "source": [
    "'''10. Find the intersection of two sets.'''\n",
    "\n",
    "# Declare Sets\n",
    "set1 = {1, 2, 3, 4, 5}\n",
    "set2 = {4, 5, 6, 7, 8}\n",
    "\n",
    "# Using the intersection() method\n",
    "intersection_result_method = set1.intersection(set2)\n",
    "\n",
    "# Using the & operator\n",
    "intersection_result_operator = set1 & set2\n",
    "\n",
    "# Display Result\n",
    "print(\"Intersection using intersection():\", intersection_result_method)\n",
    "print(\"Intersection using & operator:\", intersection_result_operator)"
   ]
  },
  {
   "cell_type": "code",
   "execution_count": 45,
   "id": "61f487f5-aabd-4200-9dc5-d6adb99f2b85",
   "metadata": {},
   "outputs": [
    {
     "name": "stdout",
     "output_type": "stream",
     "text": [
      "Difference using difference(): {1, 2, 3}\n",
      "Difference using - operator: {1, 2, 3}\n"
     ]
    }
   ],
   "source": [
    "'''11. Find the difference between two sets.'''\n",
    "\n",
    "# Declare Sets\n",
    "set1 = {1, 2, 3, 4, 5}\n",
    "set2 = {4, 5, 6, 7, 8}\n",
    "\n",
    "# Using the difference() method\n",
    "difference_result_method = set1.difference(set2)\n",
    "\n",
    "# Using the - operator\n",
    "difference_result_operator = set1 - set2\n",
    "\n",
    "# Display Result\n",
    "print(\"Difference using difference():\", difference_result_method)\n",
    "print(\"Difference using - operator:\", difference_result_operator)"
   ]
  },
  {
   "cell_type": "code",
   "execution_count": 46,
   "id": "292db6a8-0422-471c-a8d7-8724038ae184",
   "metadata": {},
   "outputs": [
    {
     "name": "stdout",
     "output_type": "stream",
     "text": [
      "set2 is a subset of set1.\n"
     ]
    }
   ],
   "source": [
    "'''12. Check if a set is a subset of another set.'''\n",
    "\n",
    "# Declare Sets\n",
    "set1 = {1, 2, 3, 4, 5}\n",
    "set2 = {2, 4}\n",
    "\n",
    "# Check if set2 is a subset of set1\n",
    "is_subset = set2.issubset(set1)\n",
    "\n",
    "# Display Result\n",
    "if is_subset:\n",
    "    print(\"set2 is a subset of set1.\")\n",
    "else:\n",
    "    print(\"set2 is not a subset of set1.\")"
   ]
  },
  {
   "cell_type": "code",
   "execution_count": 47,
   "id": "62ffb70c-e831-42be-bd50-1d4cdc5643e7",
   "metadata": {},
   "outputs": [
    {
     "name": "stdout",
     "output_type": "stream",
     "text": [
      "set1 is a superset of set2.\n"
     ]
    }
   ],
   "source": [
    "'''13. Check if a set is a superset of another set.'''\n",
    "\n",
    "# Declare Sets\n",
    "set1 = {1, 2, 3, 4, 5}\n",
    "set2 = {2, 4}\n",
    "\n",
    "# Check if set1 is a superset of set2\n",
    "is_superset = set1.issuperset(set2)\n",
    "\n",
    "# Display Result\n",
    "if is_superset:\n",
    "    print(\"set1 is a superset of set2.\")\n",
    "else:\n",
    "    print(\"set1 is not a superset of set2.\")"
   ]
  },
  {
   "cell_type": "code",
   "execution_count": 48,
   "id": "873eefe1-d945-4c20-b231-9931a9f71d9c",
   "metadata": {},
   "outputs": [
    {
     "name": "stdout",
     "output_type": "stream",
     "text": [
      "Set from list: {1, 2, 3, 4, 5}\n"
     ]
    }
   ],
   "source": [
    "'''14. Create a set from a list.'''\n",
    "\n",
    "# Declare List\n",
    "my_list = [1, 2, 3, 4, 5]\n",
    "\n",
    "# Create a set from the list\n",
    "my_set = set(my_list)\n",
    "\n",
    "# Display Result\n",
    "print(\"Set from list:\", my_set)\n",
    "\n"
   ]
  },
  {
   "cell_type": "code",
   "execution_count": 49,
   "id": "70e6ba83-48a5-4103-a473-5d0b00bd6ef9",
   "metadata": {},
   "outputs": [
    {
     "name": "stdout",
     "output_type": "stream",
     "text": [
      "List from set: [1, 2, 3, 4, 5]\n"
     ]
    }
   ],
   "source": [
    "'''15. Convert a set to a list.'''\n",
    "\n",
    "# Declare Set\n",
    "my_set = {1, 2, 3, 4, 5}\n",
    "\n",
    "# Convert the set to a list\n",
    "my_list = list(my_set)\n",
    "\n",
    "# Display Result\n",
    "print(\"List from set:\", my_list)"
   ]
  },
  {
   "cell_type": "code",
   "execution_count": 51,
   "id": "e29c1b00-4aeb-4545-9e88-9e9628422c40",
   "metadata": {},
   "outputs": [
    {
     "name": "stdout",
     "output_type": "stream",
     "text": [
      "Set after removing a random element: {2, 3, 4, 5}\n",
      "Removed element: 1\n"
     ]
    }
   ],
   "source": [
    "'''16. Remove a random element from a set.'''\n",
    "\n",
    "# Declare Set\n",
    "my_set = {1, 2, 3, 4, 5}\n",
    "\n",
    "# Remove a random element from the set using pop()\n",
    "removed_element = my_set.pop()\n",
    "\n",
    "# Display Result\n",
    "print(\"Set after removing a random element:\", my_set)\n",
    "print(\"Removed element:\", removed_element)"
   ]
  },
  {
   "cell_type": "code",
   "execution_count": 52,
   "id": "353e56ba-5ed1-4cce-aa2c-dbbb86a28337",
   "metadata": {},
   "outputs": [
    {
     "name": "stdout",
     "output_type": "stream",
     "text": [
      "Set after popping an element: {2, 3, 4, 5}\n",
      "Popped element: 1\n"
     ]
    }
   ],
   "source": [
    "'''17. Pop an element from a set.'''\n",
    "\n",
    "# Declare Set\n",
    "my_set = {1, 2, 3, 4, 5}\n",
    "\n",
    "# Pop an element from the set\n",
    "popped_element = my_set.pop()\n",
    "\n",
    "# Display Result\n",
    "print(\"Set after popping an element:\", my_set)\n",
    "print(\"Popped element:\", popped_element)"
   ]
  },
  {
   "cell_type": "code",
   "execution_count": 54,
   "id": "af14dcd4-6318-4a8c-9f21-21e773572247",
   "metadata": {},
   "outputs": [
    {
     "name": "stdout",
     "output_type": "stream",
     "text": [
      "The sets have no elements in common.\n"
     ]
    }
   ],
   "source": [
    "'''18. Check if two sets have no elements in common.'''\n",
    "\n",
    "# Declare Sets\n",
    "set1 = {1, 2, 3, 4, 5}\n",
    "set2 = {6, 7, 8, 9, 10}\n",
    "\n",
    "# Check if the sets have no elements in common\n",
    "no_common_elements = set1.isdisjoint(set2)\n",
    "\n",
    "# Display Result\n",
    "if no_common_elements:\n",
    "    print(\"The sets have no elements in common.\")\n",
    "else:\n",
    "    print(\"The sets have elements in common.\")"
   ]
  },
  {
   "cell_type": "code",
   "execution_count": 55,
   "id": "41553b41-d889-442f-9f2c-dc58f80a2a08",
   "metadata": {},
   "outputs": [
    {
     "name": "stdout",
     "output_type": "stream",
     "text": [
      "Symmetric difference using symmetric_difference(): {1, 2, 3, 6, 7, 8}\n",
      "Symmetric difference using ^ operator: {1, 2, 3, 6, 7, 8}\n"
     ]
    }
   ],
   "source": [
    "'''19. Find the symmetric difference between two sets.'''\n",
    "\n",
    "# Declare Sets\n",
    "set1 = {1, 2, 3, 4, 5}\n",
    "set2 = {4, 5, 6, 7, 8}\n",
    "\n",
    "# Using the symmetric_difference() method\n",
    "symmetric_difference_result_method = set1.symmetric_difference(set2)\n",
    "\n",
    "# Using the ^ operator\n",
    "symmetric_difference_result_operator = set1 ^ set2\n",
    "\n",
    "# Display Result\n",
    "print(\"Symmetric difference using symmetric_difference():\", symmetric_difference_result_method)\n",
    "print(\"Symmetric difference using ^ operator:\", symmetric_difference_result_operator)"
   ]
  },
  {
   "cell_type": "code",
   "execution_count": 56,
   "id": "43049cf0-2d55-4a19-b698-2f96f2dd983c",
   "metadata": {},
   "outputs": [
    {
     "name": "stdout",
     "output_type": "stream",
     "text": [
      "Updated set1: {1, 2, 3, 4, 5}\n"
     ]
    }
   ],
   "source": [
    "'''20. Update a set with elements from another set.'''\n",
    "\n",
    "# Declare Sets\n",
    "set1 = {1, 2, 3}\n",
    "set2 = {3, 4, 5}\n",
    "\n",
    "# Update set1 with elements from set2\n",
    "set1.update(set2)\n",
    "\n",
    "# Display Result\n",
    "print(\"Updated set1:\", set1)"
   ]
  },
  {
   "cell_type": "code",
   "execution_count": 57,
   "id": "1467f35b-8e09-4b3c-a97a-b7e2d3500702",
   "metadata": {},
   "outputs": [
    {
     "name": "stdout",
     "output_type": "stream",
     "text": [
      "Set of the first 5 prime numbers: {2, 3, 5, 7, 11}\n"
     ]
    }
   ],
   "source": [
    "'''21. Create a set of the first 5 prime numbers.'''\n",
    "\n",
    "# Declare Set\n",
    "prime_numbers_set = {2, 3, 5, 7, 11}\n",
    "\n",
    "# Display Result\n",
    "print(\"Set of the first 5 prime numbers:\", prime_numbers_set)"
   ]
  },
  {
   "cell_type": "code",
   "execution_count": 58,
   "id": "ee197d4a-f329-4d56-9d84-6b7eaae3e093",
   "metadata": {},
   "outputs": [
    {
     "name": "stdout",
     "output_type": "stream",
     "text": [
      "The sets are identical.\n"
     ]
    }
   ],
   "source": [
    "'''22. Check if two sets are identical.'''\n",
    "\n",
    "# Declare Sets\n",
    "set1 = {1, 2, 3, 4, 5}\n",
    "set2 = {5, 4, 3, 2, 1}\n",
    "\n",
    "# Check if sets are identical using the == operator\n",
    "are_identical = set1 == set2\n",
    "\n",
    "# Display Result\n",
    "if are_identical:\n",
    "    print(\"The sets are identical.\")\n",
    "else:\n",
    "    print(\"The sets are not identical.\")"
   ]
  },
  {
   "cell_type": "code",
   "execution_count": 59,
   "id": "bb5e5312-d3a0-4e26-af94-8ad44cc73459",
   "metadata": {},
   "outputs": [
    {
     "name": "stdout",
     "output_type": "stream",
     "text": [
      "Frozen set: frozenset({1, 2, 3, 4, 5})\n"
     ]
    }
   ],
   "source": [
    "'''23. Create a frozen set.'''\n",
    "\n",
    "# Declare Set\n",
    "my_set = {1, 2, 3, 4, 5}\n",
    "\n",
    "# Create a frozen set from the existing set\n",
    "frozen_set = frozenset(my_set)\n",
    "\n",
    "# Display Result\n",
    "print(\"Frozen set:\", frozen_set)"
   ]
  },
  {
   "cell_type": "code",
   "execution_count": 60,
   "id": "c4434def-cf58-4758-82d0-6212bdf4e85d",
   "metadata": {},
   "outputs": [
    {
     "name": "stdout",
     "output_type": "stream",
     "text": [
      "The sets are disjoint.\n"
     ]
    }
   ],
   "source": [
    "'''24. Check if a set is disjoint with another set.'''\n",
    "\n",
    "# Declare Sets\n",
    "set1 = {1, 2, 3, 4, 5}\n",
    "set2 = {6, 7, 8, 9, 10}\n",
    "\n",
    "# Check if the sets are disjoint\n",
    "are_disjoint = set1.isdisjoint(set2)\n",
    "\n",
    "# Display Result\n",
    "if are_disjoint:\n",
    "    print(\"The sets are disjoint.\")\n",
    "else:\n",
    "    print(\"The sets have elements in common.\")"
   ]
  },
  {
   "cell_type": "code",
   "execution_count": 61,
   "id": "0619edc1-412a-426c-850b-f8edf8354819",
   "metadata": {},
   "outputs": [
    {
     "name": "stdout",
     "output_type": "stream",
     "text": [
      "Set of squares: {1, 4, 9, 16, 25}\n"
     ]
    }
   ],
   "source": [
    "'''25. Create a set of squares of numbers from 1 to 5.'''\n",
    "\n",
    "squares_set = {x**2 for x in range(1, 6)}\n",
    "\n",
    "# Display Result\n",
    "print(\"Set of squares:\", squares_set)\n",
    "\n"
   ]
  },
  {
   "cell_type": "code",
   "execution_count": 63,
   "id": "30dab804-99e0-4e13-80d0-b9513c724f44",
   "metadata": {},
   "outputs": [
    {
     "name": "stdout",
     "output_type": "stream",
     "text": [
      "Original set: {1, 2, 3, 4, 5, 6, 7, 8, 9, 10}\n",
      "Filtered set (without even numbers): {1, 3, 5, 7, 9}\n"
     ]
    }
   ],
   "source": [
    "'''26. Filter out all even numbers from a set.'''\n",
    "\n",
    "# Declare Set\n",
    "original_set = {1, 2, 3, 4, 5, 6, 7, 8, 9, 10}\n",
    "\n",
    "# Filter out even numbers using a set comprehension\n",
    "filtered_set = {x for x in original_set if x % 2 != 0}\n",
    "\n",
    "# Display Result\n",
    "print(\"Original set:\", original_set)\n",
    "print(\"Filtered set (without even numbers):\", filtered_set)\n"
   ]
  },
  {
   "cell_type": "code",
   "execution_count": 64,
   "id": "80bee39d-c3d5-4e4b-a830-4966e1d0638d",
   "metadata": {},
   "outputs": [
    {
     "name": "stdout",
     "output_type": "stream",
     "text": [
      "Original set: {1, 2, 3, 4, 5}\n",
      "Modified set (elements multiplied by 2): {2, 4, 6, 8, 10}\n"
     ]
    }
   ],
   "source": [
    "'''27. Multiply all elements in a set by 2.'''\n",
    "\n",
    "# Declare Set\n",
    "original_set = {1, 2, 3, 4, 5}\n",
    "\n",
    "# Convert the set to a list, multiply each element by 2, and create a new set\n",
    "modified_set = {x * 2 for x in original_set}\n",
    "\n",
    "# Display Result\n",
    "print(\"Original set:\", original_set)\n",
    "print(\"Modified set (elements multiplied by 2):\", modified_set)"
   ]
  },
  {
   "cell_type": "code",
   "execution_count": 65,
   "id": "1e69a9ee-3262-4e94-81ec-af9906daba47",
   "metadata": {},
   "outputs": [
    {
     "name": "stdout",
     "output_type": "stream",
     "text": [
      "Random set: {8, 10, 4, 7}\n"
     ]
    }
   ],
   "source": [
    "'''28. Create a set of random numbers.'''\n",
    "\n",
    "import random\n",
    "\n",
    "# Create a set of 5 random numbers between 1 and 10\n",
    "random_set = {random.randint(1, 10) for _ in range(5)}\n",
    "\n",
    "# Display Result\n",
    "print(\"Random set:\", random_set)"
   ]
  },
  {
   "cell_type": "code",
   "execution_count": 66,
   "id": "9e1c93ac-e445-43d4-a228-c5d24b0afd8a",
   "metadata": {},
   "outputs": [
    {
     "name": "stdout",
     "output_type": "stream",
     "text": [
      "The set is empty.\n",
      "The set is empty.\n"
     ]
    }
   ],
   "source": [
    "'''29. Check if a set is empty.'''\n",
    "\n",
    "# Method 1: Using len()\n",
    "my_set = set()\n",
    "\n",
    "if len(my_set) == 0:\n",
    "    print(\"The set is empty.\")\n",
    "else:\n",
    "    print(\"The set is not empty.\")\n",
    "\n",
    "# Method 2: Using boolean context\n",
    "if not my_set:\n",
    "    print(\"The set is empty.\")\n",
    "else:\n",
    "    print(\"The set is not empty.\")"
   ]
  },
  {
   "cell_type": "code",
   "execution_count": 67,
   "id": "ec9271fd-7bac-4929-a462-3956dab722c9",
   "metadata": {},
   "outputs": [
    {
     "name": "stdout",
     "output_type": "stream",
     "text": [
      "Nested set: {frozenset({1, 2, 3}), frozenset({4, 5, 6}), frozenset({8, 9, 7})}\n"
     ]
    }
   ],
   "source": [
    "'''30. Create a nested set (hint: use frozenset).'''\n",
    "\n",
    "# Declare Nested Set\n",
    "nested_set = {frozenset({1, 2, 3}), frozenset({4, 5, 6}), frozenset({7, 8, 9})}\n",
    "\n",
    "# Display Nested Set\n",
    "print(\"Nested set:\", nested_set)"
   ]
  },
  {
   "cell_type": "code",
   "execution_count": 69,
   "id": "feb48e49-f088-4970-93f2-3d7d93f95446",
   "metadata": {},
   "outputs": [
    {
     "name": "stdout",
     "output_type": "stream",
     "text": [
      "Set after removing element: {1, 2, 4, 5}\n"
     ]
    }
   ],
   "source": [
    "'''31. Remove an element from a set using the discard method.'''\n",
    "\n",
    "# Declare Set\n",
    "my_set = {1, 2, 3, 4, 5}\n",
    "\n",
    "# Remove an element using discard()\n",
    "my_set.discard(3)\n",
    "\n",
    "# Display Result\n",
    "print(\"Set after removing element:\", my_set)"
   ]
  },
  {
   "cell_type": "code",
   "execution_count": 70,
   "id": "699cd1a4-c8d3-4e67-be2a-001855007c15",
   "metadata": {},
   "outputs": [
    {
     "name": "stdout",
     "output_type": "stream",
     "text": [
      "The sets are equal.\n"
     ]
    }
   ],
   "source": [
    "'''32. Compare two sets.'''\n",
    "\n",
    "# Declare Set\n",
    "set1 = {1, 2, 3, 4, 5}\n",
    "set2 = {5, 4, 3, 2, 1}\n",
    "\n",
    "are_equal = set1 == set2\n",
    "\n",
    "# Display Result\n",
    "if are_equal:\n",
    "    print(\"The sets are equal.\")\n",
    "else:\n",
    "    print(\"The sets are not equal.\")"
   ]
  },
  {
   "cell_type": "code",
   "execution_count": 71,
   "id": "cba25146-54af-41a5-a9b3-526ed16fe229",
   "metadata": {},
   "outputs": [
    {
     "name": "stdout",
     "output_type": "stream",
     "text": [
      "Set from string: {'e', 'l', 'h', 'o'}\n"
     ]
    }
   ],
   "source": [
    "'''33. Create a set from a string.'''\n",
    "\n",
    "my_string = \"hello\"\n",
    "\n",
    "# Create a set from the string\n",
    "my_set = set(my_string)\n",
    "\n",
    "# Display Result\n",
    "print(\"Set from string:\", my_set)"
   ]
  },
  {
   "cell_type": "code",
   "execution_count": 73,
   "id": "6f9ca19a-bd82-402d-b4fe-e512ac9f72f9",
   "metadata": {},
   "outputs": [
    {
     "name": "stdout",
     "output_type": "stream",
     "text": [
      "Set of integers: {1, 2, 3, 4, 5}\n"
     ]
    }
   ],
   "source": [
    "'''34. Convert a set of strings to a set of integers.'''\n",
    "\n",
    "# Declare Set\n",
    "string_set = {\"1\", \"2\", \"3\", \"4\", \"5\"}\n",
    "\n",
    "# Convert the set of strings to a set of integers\n",
    "integer_set = {int(x) for x in string_set}\n",
    "\n",
    "# Display Result\n",
    "print(\"Set of integers:\", integer_set)"
   ]
  },
  {
   "cell_type": "code",
   "execution_count": 74,
   "id": "b3e4e4cb-196a-4680-8e18-619ed4022ff5",
   "metadata": {},
   "outputs": [
    {
     "name": "stdout",
     "output_type": "stream",
     "text": [
      "Set of strings: {'1', '4', '3', '2', '5'}\n"
     ]
    }
   ],
   "source": [
    "'''35. Convert a set of integers to a set of strings.'''\n",
    "\n",
    "# Declare Set\n",
    "integer_set = {1, 2, 3, 4, 5}\n",
    "\n",
    "# Convert the set of integers to a set of strings\n",
    "string_set = {str(x) for x in integer_set}\n",
    "\n",
    "# Display Result\n",
    "print(\"Set of strings:\", string_set)"
   ]
  },
  {
   "cell_type": "code",
   "execution_count": 75,
   "id": "a3b67e43-06bb-41a5-87d2-f11ddaf59c75",
   "metadata": {},
   "outputs": [
    {
     "name": "stdout",
     "output_type": "stream",
     "text": [
      "Set from tuple: {1, 2, 3, 4, 5}\n"
     ]
    }
   ],
   "source": [
    "'''36. Create a set from a tuple.'''\n",
    "\n",
    "# Declare Set\n",
    "my_tuple = (1, 2, 3, 4, 5)\n",
    "\n",
    "# Create a set from the tuple\n",
    "my_set = set(my_tuple)\n",
    "\n",
    "# Display Result\n",
    "print(\"Set from tuple:\", my_set)"
   ]
  },
  {
   "cell_type": "code",
   "execution_count": 76,
   "id": "dbbfa86c-d5bc-48a3-b4aa-ff2c2097129f",
   "metadata": {},
   "outputs": [
    {
     "name": "stdout",
     "output_type": "stream",
     "text": [
      "Tuple from set: (1, 2, 3, 4, 5)\n"
     ]
    }
   ],
   "source": [
    "'''37. Convert a set to a tuple.'''\n",
    "\n",
    "# Declare Set\n",
    "my_set = {1, 2, 3, 4, 5}\n",
    "\n",
    "# Convert the set to a tuple\n",
    "my_tuple = tuple(my_set)\n",
    "\n",
    "# Display Result\n",
    "print(\"Tuple from set:\", my_tuple)"
   ]
  },
  {
   "cell_type": "code",
   "execution_count": 77,
   "id": "3a7ba5f8-b29c-42a2-9d24-6ddacc877d7e",
   "metadata": {},
   "outputs": [
    {
     "name": "stdout",
     "output_type": "stream",
     "text": [
      "Maximum value in the set: 20\n"
     ]
    }
   ],
   "source": [
    "'''38. Find the maximum value in a set.'''\n",
    "\n",
    "# Declare Set\n",
    "my_set = {10, 5, 8, 20, 15}\n",
    "\n",
    "# Find the maximum value in the set\n",
    "max_value = max(my_set)\n",
    "\n",
    "# Display Result\n",
    "print(\"Maximum value in the set:\", max_value)"
   ]
  },
  {
   "cell_type": "code",
   "execution_count": 78,
   "id": "cd62fb74-ee31-41bf-b256-8fc042452c75",
   "metadata": {},
   "outputs": [
    {
     "name": "stdout",
     "output_type": "stream",
     "text": [
      "Minimum value in the set: 5\n"
     ]
    }
   ],
   "source": [
    "'''39. Find the minimum value in a set.'''\n",
    "\n",
    "# Declare Set\n",
    "my_set = {10, 5, 8, 20, 15}\n",
    "\n",
    "# Find the minimum value in the set\n",
    "min_value = min(my_set)\n",
    "\n",
    "# Display Result\n",
    "print(\"Minimum value in the set:\", min_value)"
   ]
  },
  {
   "cell_type": "code",
   "execution_count": 79,
   "id": "c1b4adaa-84d3-4fe4-8171-a63d8aa8c0b2",
   "metadata": {},
   "outputs": [
    {
     "name": "stdin",
     "output_type": "stream",
     "text": [
      "Enter elements separated by spaces:  Hello World\n"
     ]
    },
    {
     "name": "stdout",
     "output_type": "stream",
     "text": [
      "Set from user input: {'World', 'Hello'}\n"
     ]
    }
   ],
   "source": [
    "'''40. Create a set from user input.'''\n",
    "\n",
    "# Get user input as a string\n",
    "user_input_str = input(\"Enter elements separated by spaces: \")\n",
    "\n",
    "# Split the input string into a list of elements\n",
    "user_input_list = user_input_str.split()\n",
    "\n",
    "# Convert the list to a set\n",
    "user_set = set(user_input_list)\n",
    "\n",
    "# Display Result\n",
    "print(\"Set from user input:\", user_set)\n",
    "\n"
   ]
  },
  {
   "cell_type": "code",
   "execution_count": 80,
   "id": "7be27375-4ac9-4d51-b2bd-7278f0e8d571",
   "metadata": {},
   "outputs": [
    {
     "name": "stdout",
     "output_type": "stream",
     "text": [
      "The sets have no elements in common (intersection is empty).\n"
     ]
    }
   ],
   "source": [
    "'''41. Check if the intersection of two sets is empty.'''\n",
    "\n",
    "# Declare Sets\n",
    "set1 = {1, 2, 3, 4, 5}\n",
    "set2 = {6, 7, 8, 9, 10}\n",
    "\n",
    "# Check if the sets have no elements in common (intersection is empty)\n",
    "is_disjoint = set1.isdisjoint(set2)\n",
    "\n",
    "# Display Result\n",
    "if is_disjoint:\n",
    "    print(\"The sets have no elements in common (intersection is empty).\")\n",
    "else:\n",
    "    print(\"The sets have elements in common.\")"
   ]
  },
  {
   "cell_type": "code",
   "execution_count": 81,
   "id": "bda87fcf-4d17-4b56-a039-608d06f80934",
   "metadata": {},
   "outputs": [
    {
     "name": "stdout",
     "output_type": "stream",
     "text": [
      "Set of the first 5 Fibonacci numbers: {0, 1, 2, 3}\n"
     ]
    }
   ],
   "source": [
    "'''42. Create a set of the first 5 Fibonacci numbers.'''\n",
    "\n",
    "# Function to generate the first n Fibonacci numbers\n",
    "def generate_fibonacci(n):\n",
    "    fibonacci_set = set()\n",
    "    a, b = 0, 1\n",
    "    for _ in range(n):\n",
    "        fibonacci_set.add(a)\n",
    "        a, b = b, a + b\n",
    "    return fibonacci_set\n",
    "\n",
    "# Create a set of the first 5 Fibonacci numbers\n",
    "first_five_fibonacci = generate_fibonacci(5)\n",
    "\n",
    "# Display Result\n",
    "print(\"Set of the first 5 Fibonacci numbers:\", first_five_fibonacci)"
   ]
  },
  {
   "cell_type": "code",
   "execution_count": 85,
   "id": "c0fe0bd1-1f1b-4c09-a2c2-ea703884a287",
   "metadata": {},
   "outputs": [
    {
     "name": "stdout",
     "output_type": "stream",
     "text": [
      "Original List: [1, 2, 3, 2, 4, 5, 6, 4]\n",
      "List with Duplicates Removed: [1, 2, 3, 4, 5, 6]\n"
     ]
    }
   ],
   "source": [
    "'''43. Remove duplicates from a list using sets.'''\n",
    "\n",
    "# Declare a list\n",
    "original_list = [1, 2, 3, 2, 4, 5, 6, 4]\n",
    "\n",
    "# Remove duplicates using sets\n",
    "unique_list = list(set(original_list))\n",
    "\n",
    "# Display Result\n",
    "print(\"Original List:\", original_list)\n",
    "print(\"List with Duplicates Removed:\", unique_list)"
   ]
  },
  {
   "cell_type": "code",
   "execution_count": 86,
   "id": "02709288-4a27-4be7-aa79-04f30dec3e6c",
   "metadata": {},
   "outputs": [
    {
     "name": "stdout",
     "output_type": "stream",
     "text": [
      "The sets have the same elements, regardless of their count.\n"
     ]
    }
   ],
   "source": [
    "'''44. Check if two sets have the same elements, regardless of their count.'''\n",
    "\n",
    "# Declare Sets\n",
    "set1 = {1, 2, 3, 4, 5}\n",
    "set2 = {5, 4, 3, 2, 1}\n",
    "\n",
    "# Check if the sets have the same elements\n",
    "have_same_elements = set1 == set2\n",
    "\n",
    "# Display Result\n",
    "if have_same_elements:\n",
    "    print(\"The sets have the same elements, regardless of their count.\")\n",
    "else:\n",
    "    print(\"The sets do not have the same elements.\")\n"
   ]
  },
  {
   "cell_type": "code",
   "execution_count": 87,
   "id": "169c4665-a097-4a68-a795-97ee82767fe7",
   "metadata": {},
   "outputs": [
    {
     "name": "stdout",
     "output_type": "stream",
     "text": [
      "Set of the first 5 powers of 2: {1, 2, 4, 8, 16}\n"
     ]
    }
   ],
   "source": [
    "'''45. Create a set of the first `n` powers of 2.'''\n",
    "\n",
    "n = 5\n",
    "\n",
    "# Create a set of the first n powers of 2\n",
    "powers_of_two_set = {2 ** i for i in range(n)}\n",
    "\n",
    "# Display Result\n",
    "print(\"Set of the first {} powers of 2:\".format(n), powers_of_two_set)\n"
   ]
  },
  {
   "cell_type": "code",
   "execution_count": 88,
   "id": "23e13142-d146-42ed-a50e-bd3af94e4278",
   "metadata": {},
   "outputs": [
    {
     "name": "stdout",
     "output_type": "stream",
     "text": [
      "Common elements: {3, 4, 5}\n"
     ]
    }
   ],
   "source": [
    "'''46. Find the common elements between a set and a list.'''\n",
    "\n",
    "# Declare Set and List\n",
    "my_set = {1, 2, 3, 4, 5}\n",
    "my_list = [3, 4, 5, 6, 7]\n",
    "\n",
    "# Find common elements using the intersection method\n",
    "common_elements = my_set.intersection(my_list)\n",
    "\n",
    "# Display Result\n",
    "print(\"Common elements:\", common_elements)\n"
   ]
  },
  {
   "cell_type": "code",
   "execution_count": 89,
   "id": "c77e01f5-2de5-4664-b2f7-c9bf8e8d67e6",
   "metadata": {},
   "outputs": [
    {
     "name": "stdout",
     "output_type": "stream",
     "text": [
      "Set of the first 5 triangular numbers: {1, 3, 6, 10, 15}\n"
     ]
    }
   ],
   "source": [
    "'''47. Create a set of the first `n` triangular numbers.'''\n",
    "\n",
    "n = 5\n",
    "\n",
    "# Create a set of the first n triangular numbers\n",
    "triangular_numbers_set = {(i * (i + 1)) // 2 for i in range(1, n + 1)}\n",
    "\n",
    "# Display Result\n",
    "print(\"Set of the first {} triangular numbers:\".format(n), triangular_numbers_set)"
   ]
  },
  {
   "cell_type": "code",
   "execution_count": 91,
   "id": "45094ac9-188e-4f9f-ae1c-d50b910f48f9",
   "metadata": {},
   "outputs": [
    {
     "name": "stdout",
     "output_type": "stream",
     "text": [
      "set2 is a subset of set1 using issubset() method.\n",
      "set2 is a subset of set1 using the subset operator.\n"
     ]
    }
   ],
   "source": [
    "'''48. Check if a set contains another set as a subset.'''\n",
    "\n",
    "# Declaring Sets\n",
    "set1 = {1, 2, 3, 4, 5, 6, 7}\n",
    "set2 = {2, 4, 6}\n",
    "\n",
    "# Check if set2 is a subset of set1 using issubset() method\n",
    "is_subset_method = set2.issubset(set1)\n",
    "\n",
    "# Check if set2 is a subset of set1 using the subset operator\n",
    "is_subset_operator = set2 <= set1\n",
    "\n",
    "# Display Result\n",
    "if is_subset_method:\n",
    "    print(\"set2 is a subset of set1 using issubset() method.\")\n",
    "else:\n",
    "    print(\"set2 is not a subset of set1 using issubset() method.\")\n",
    "\n",
    "if is_subset_operator:\n",
    "    print(\"set2 is a subset of set1 using the subset operator.\")\n",
    "else:\n",
    "    print(\"set2 is not a subset of set1 using the subset operator.\")"
   ]
  },
  {
   "cell_type": "code",
   "execution_count": 92,
   "id": "6d79286e-877f-4540-997d-bf8e1db577a3",
   "metadata": {},
   "outputs": [
    {
     "name": "stdout",
     "output_type": "stream",
     "text": [
      "Set of alternating 1s and 0s of length 8: {0, 1}\n"
     ]
    }
   ],
   "source": [
    "'''49. Create a set of alternating 1s and 0s of length `n`.'''\n",
    "\n",
    "n = 8\n",
    "\n",
    "# Create a set of alternating 1s and 0s of length n\n",
    "alternating_set = {i % 2 for i in range(n)}\n",
    "\n",
    "# Display Result\n",
    "print(\"Set of alternating 1s and 0s of length {}:\".format(n), alternating_set)"
   ]
  },
  {
   "cell_type": "code",
   "execution_count": 94,
   "id": "53e2c2c8-d2b8-412b-a47c-872997152824",
   "metadata": {},
   "outputs": [
    {
     "name": "stdout",
     "output_type": "stream",
     "text": [
      "Merged set using the union() method: {1, 2, 3, 4, 5, 6, 7}\n",
      "Merged set using the union operator: {1, 2, 3, 4, 5, 6, 7}\n"
     ]
    }
   ],
   "source": [
    "'''50. Merge multiple sets into one.'''\n",
    "\n",
    "# Declaring Sets\n",
    "set1 = {1, 2, 3}\n",
    "set2 = {3, 4, 5}\n",
    "set3 = {5, 6, 7}\n",
    "\n",
    "# Merge sets using the union() method\n",
    "merged_set_method = set1.union(set2, set3)\n",
    "\n",
    "# Merge sets using the union operator\n",
    "merged_set_operator = set1 | set2 | set3\n",
    "\n",
    "# Display Result\n",
    "print(\"Merged set using the union() method:\", merged_set_method)\n",
    "print(\"Merged set using the union operator:\", merged_set_operator)"
   ]
  },
  {
   "cell_type": "code",
   "execution_count": null,
   "id": "7ac6617d-e60d-4fdf-9139-8c4c18fca495",
   "metadata": {},
   "outputs": [],
   "source": []
  }
 ],
 "metadata": {
  "kernelspec": {
   "display_name": "Python 3 (ipykernel)",
   "language": "python",
   "name": "python3"
  },
  "language_info": {
   "codemirror_mode": {
    "name": "ipython",
    "version": 3
   },
   "file_extension": ".py",
   "mimetype": "text/x-python",
   "name": "python",
   "nbconvert_exporter": "python",
   "pygments_lexer": "ipython3",
   "version": "3.10.8"
  }
 },
 "nbformat": 4,
 "nbformat_minor": 5
}
